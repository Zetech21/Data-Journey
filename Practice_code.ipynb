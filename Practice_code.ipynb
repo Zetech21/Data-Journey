{
  "nbformat": 4,
  "nbformat_minor": 0,
  "metadata": {
    "colab": {
      "name": "Practice code.ipynb",
      "provenance": [],
      "collapsed_sections": [],
      "authorship_tag": "ABX9TyM/KcD5we9BP0RHcegBJhKs"
    },
    "kernelspec": {
      "name": "python3",
      "display_name": "Python 3"
    }
  },
  "cells": [
    {
      "cell_type": "code",
      "metadata": {
        "id": "ltYBbD-8FlXU"
      },
      "source": [
        "def groc_shop():\r\n",
        "  catalog = {'BREAD': 10,'CHIPS':5,'APPLE':2,'MEAT':5,'FISH':5,'Drinks':12,'flour':10}\r\n",
        "  def shop_groc_search():\r\n",
        "    if x in catalog:\r\n",
        "      print(\"Item is Available, Price for the item {} euros\".format(catalog[x]))\r\n",
        "    else:\r\n",
        "      return 0\r\n",
        "  def shop_groc_purc():\r\n",
        "    if shop_groc_search() == 0:\r\n",
        "      print(f\"Item {x} is not Available in the store\")\r\n",
        "    else:\r\n",
        "      print(\"Price of goods is {} euros, VAT is {} and Total cost of goods is {} euros minus delivery\".format((catalog[x]),(\"17%\"),(0.17*catalog[x]+catalog[x])))\r\n",
        "  def shop_groc_deli():\r\n",
        "    if shop_groc_search() == 0:\r\n",
        "      return 0\r\n",
        "    else:\r\n",
        "      delivery = input(\"Do you want the product to be delivered to you \")\r\n",
        "      if delivery == \"Y\":\r\n",
        "        my_add = input(\"Kindly input your address:\")\r\n",
        "        print(\"The ITEM will be delivered to {} in 2 days and Total cost plus delivery is {} euros. Thank you for your patronage\".format(my_add,(0.17*catalog[x]+catalog[x]+0.20*catalog[x])))\r\n",
        "      else:\r\n",
        "        print('Kindly visit our nearest shop to pickup the item, Please have the total sum of {} euros'.format(0.17*catalog[x]+catalog[x]))\r\n",
        "  x =input(\"Which Groocerry do you want to buy : \")\r\n",
        "  shop_groc_search()\r\n",
        "  shop_groc_purc()\r\n",
        "  shop_groc_deli()\r\n"
      ],
      "execution_count": 28,
      "outputs": []
    },
    {
      "cell_type": "code",
      "metadata": {
        "id": "NBsXPHRN7dbJ",
        "colab": {
          "base_uri": "https://localhost:8080/"
        },
        "outputId": "b0ce2e6c-8545-494a-d90c-a42ba82b764d"
      },
      "source": [
        " groc_shop()"
      ],
      "execution_count": 29,
      "outputs": [
        {
          "output_type": "stream",
          "text": [
            "Which Groocerry do you want to buy : APPLE\n",
            "Item is Available, Price for the item 2 euros\n",
            "Item is Available, Price for the item 2 euros\n",
            "Price of goods is 2 euros, VAT is 17% and Total cost of goods is 2.34 euros minus delivery\n",
            "Item is Available, Price for the item 2 euros\n",
            "Do you want the product to be delivered to you N\n",
            "Kindly visit our nearest shop to pickup the item, Please have the total sum of 2.34 euros\n"
          ],
          "name": "stdout"
        }
      ]
    }
  ]
}