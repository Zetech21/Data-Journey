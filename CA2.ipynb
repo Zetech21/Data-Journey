{
  "nbformat": 4,
  "nbformat_minor": 0,
  "metadata": {
    "colab": {
      "name": "CA2.ipynb",
      "provenance": [],
      "collapsed_sections": [
        "7upoMajA243Q",
        "YyrSHFFL6zcJ",
        "uIqfWbv3645S",
        "E4t7wswc7IRp",
        "nr8RDgts7xhy",
        "6XIdKeSTJ9FA",
        "bsTDo1-rNAyQ",
        "2n19zrRW_nnJ",
        "U0frT-xEDFk_",
        "5mTqrepZDemQ",
        "g60zUPD-7K6b"
      ],
      "authorship_tag": "ABX9TyM09846E0Ze+1iygXOHdAHU"
    },
    "kernelspec": {
      "name": "python3",
      "display_name": "Python 3"
    }
  },
  "cells": [
    {
      "cell_type": "markdown",
      "metadata": {
        "id": "UzGDrUf729Vz"
      },
      "source": [
        "#ETL (Extract, Transform, Load) *Process*"
      ]
    },
    {
      "cell_type": "markdown",
      "metadata": {
        "id": "7upoMajA243Q"
      },
      "source": [
        "##Load the CSV file (using Python)."
      ]
    },
    {
      "cell_type": "code",
      "metadata": {
        "colab": {
          "base_uri": "https://localhost:8080/",
          "height": 204
        },
        "id": "cxcK3KLszquy",
        "outputId": "564d48f1-1065-4f10-ac44-42eb4dc67e5f"
      },
      "source": [
        "# Load the Pandas libraries with alias 'pd' \r\n",
        "import numpy as np\r\n",
        "import pandas as pd\r\n",
        "# Read data from file\r\n",
        "url = 'https://drive.google.com/file/d/1B0EUA2Y76IqtmPeY6HwVEmaWucw81Ndq/view?usp=sharing'\r\n",
        "path = 'https://drive.google.com/uc?export=download&id='+url.split('/')[-2]\r\n",
        "df = pd.read_csv(path)\r\n",
        "###Top \r\n",
        "df.head()"
      ],
      "execution_count": 2,
      "outputs": [
        {
          "output_type": "execute_result",
          "data": {
            "text/html": [
              "<div>\n",
              "<style scoped>\n",
              "    .dataframe tbody tr th:only-of-type {\n",
              "        vertical-align: middle;\n",
              "    }\n",
              "\n",
              "    .dataframe tbody tr th {\n",
              "        vertical-align: top;\n",
              "    }\n",
              "\n",
              "    .dataframe thead th {\n",
              "        text-align: right;\n",
              "    }\n",
              "</style>\n",
              "<table border=\"1\" class=\"dataframe\">\n",
              "  <thead>\n",
              "    <tr style=\"text-align: right;\">\n",
              "      <th></th>\n",
              "      <th>Date</th>\n",
              "      <th>Station Area</th>\n",
              "      <th>Description</th>\n",
              "      <th>TOC</th>\n",
              "      <th>ORD</th>\n",
              "      <th>MOB</th>\n",
              "      <th>IA</th>\n",
              "      <th>LS</th>\n",
              "      <th>AH</th>\n",
              "      <th>MAV</th>\n",
              "      <th>CD</th>\n",
              "    </tr>\n",
              "  </thead>\n",
              "  <tbody>\n",
              "    <tr>\n",
              "      <th>0</th>\n",
              "      <td>01/01/2013</td>\n",
              "      <td>Rathfarnham</td>\n",
              "      <td>S/S OTHER</td>\n",
              "      <td>01:27:19</td>\n",
              "      <td>01:28:58</td>\n",
              "      <td>01:30:47</td>\n",
              "      <td>01:58:54</td>\n",
              "      <td>02:08:54</td>\n",
              "      <td>02:28:54</td>\n",
              "      <td>02:48:54</td>\n",
              "      <td>03:08:54</td>\n",
              "    </tr>\n",
              "    <tr>\n",
              "      <th>1</th>\n",
              "      <td>01/01/2013</td>\n",
              "      <td>Tallaght</td>\n",
              "      <td>Fire CAR</td>\n",
              "      <td>01:49:57</td>\n",
              "      <td>01:50:40</td>\n",
              "      <td>01:51:47</td>\n",
              "      <td>01:55:43</td>\n",
              "      <td>02:05:43</td>\n",
              "      <td>02:25:43</td>\n",
              "      <td>02:45:43</td>\n",
              "      <td>03:05:43</td>\n",
              "    </tr>\n",
              "    <tr>\n",
              "      <th>2</th>\n",
              "      <td>01/01/2013</td>\n",
              "      <td>North Strand</td>\n",
              "      <td>S/S RTA</td>\n",
              "      <td>03:35:24</td>\n",
              "      <td>03:36:14</td>\n",
              "      <td>03:38:28</td>\n",
              "      <td>03:41:20</td>\n",
              "      <td>03:51:20</td>\n",
              "      <td>04:11:20</td>\n",
              "      <td>04:31:20</td>\n",
              "      <td>04:51:20</td>\n",
              "    </tr>\n",
              "    <tr>\n",
              "      <th>3</th>\n",
              "      <td>01/01/2013</td>\n",
              "      <td>Tallaght</td>\n",
              "      <td>Fire CAR</td>\n",
              "      <td>04:12:51</td>\n",
              "      <td>04:13:56</td>\n",
              "      <td>04:14:32</td>\n",
              "      <td>04:20:48</td>\n",
              "      <td>04:30:48</td>\n",
              "      <td>04:50:48</td>\n",
              "      <td>05:10:48</td>\n",
              "      <td>05:30:48</td>\n",
              "    </tr>\n",
              "    <tr>\n",
              "      <th>4</th>\n",
              "      <td>01/01/2013</td>\n",
              "      <td>Finglas</td>\n",
              "      <td>Fire DOM PER</td>\n",
              "      <td>04:14:24</td>\n",
              "      <td>04:15:36</td>\n",
              "      <td>04:17:37</td>\n",
              "      <td>04:20:47</td>\n",
              "      <td>04:30:47</td>\n",
              "      <td>04:50:47</td>\n",
              "      <td>05:10:47</td>\n",
              "      <td>05:30:47</td>\n",
              "    </tr>\n",
              "  </tbody>\n",
              "</table>\n",
              "</div>"
            ],
            "text/plain": [
              "         Date  Station Area   Description  ...        AH       MAV        CD\n",
              "0  01/01/2013   Rathfarnham     S/S OTHER  ...  02:28:54  02:48:54  03:08:54\n",
              "1  01/01/2013      Tallaght      Fire CAR  ...  02:25:43  02:45:43  03:05:43\n",
              "2  01/01/2013  North Strand       S/S RTA  ...  04:11:20  04:31:20  04:51:20\n",
              "3  01/01/2013      Tallaght      Fire CAR  ...  04:50:48  05:10:48  05:30:48\n",
              "4  01/01/2013       Finglas  Fire DOM PER  ...  04:50:47  05:10:47  05:30:47\n",
              "\n",
              "[5 rows x 11 columns]"
            ]
          },
          "metadata": {
            "tags": []
          },
          "execution_count": 2
        }
      ]
    },
    {
      "cell_type": "markdown",
      "metadata": {
        "id": "wQXhpi5-6tFZ"
      },
      "source": [
        "##Output the total number of rows and columns."
      ]
    },
    {
      "cell_type": "code",
      "metadata": {
        "colab": {
          "base_uri": "https://localhost:8080/"
        },
        "id": "y0DTSAwHMqVU",
        "outputId": "6923a396-5443-4d92-96b5-b70e48a8fc0f"
      },
      "source": [
        "##Count of Columns and Rows\r\n",
        "No_of_col = df.shape[1]\r\n",
        "No_of_rows = df.shape[0]\r\n",
        "print(f\"Total Number of Columns in the Dataset is {No_of_col}\")\r\n",
        "print(f\"Total Number of Rows in the Dataset is {No_of_rows:,}\")"
      ],
      "execution_count": 3,
      "outputs": [
        {
          "output_type": "stream",
          "text": [
            "Total Number of Columns in the Dataset is 11\n",
            "Total Number of Rows in the Dataset is 38,556\n"
          ],
          "name": "stdout"
        }
      ]
    },
    {
      "cell_type": "markdown",
      "metadata": {
        "id": "YyrSHFFL6zcJ"
      },
      "source": [
        "##Output the number of non-null rows (by column)."
      ]
    },
    {
      "cell_type": "code",
      "metadata": {
        "colab": {
          "base_uri": "https://localhost:8080/"
        },
        "id": "_06GQ09xMs1R",
        "outputId": "20e24863-d6d2-4a7e-94d7-f1bc36596e48"
      },
      "source": [
        "##Count of Not null columns\r\n",
        "Non_Null_columns = df.count()\r\n",
        "print(\"Total Number of Non Null Values by Columns in the Dataset\")\r\n",
        "print(Non_Null_columns)"
      ],
      "execution_count": 4,
      "outputs": [
        {
          "output_type": "stream",
          "text": [
            "Total Number of Non Null Values by Columns in the Dataset\n",
            "Date            38556\n",
            "Station Area    38556\n",
            "Description     38556\n",
            "TOC             38556\n",
            "ORD             38556\n",
            "MOB             37311\n",
            "IA              30962\n",
            "LS              38556\n",
            "AH                153\n",
            "MAV             38530\n",
            "CD              38530\n",
            "dtype: int64\n"
          ],
          "name": "stdout"
        }
      ]
    },
    {
      "cell_type": "markdown",
      "metadata": {
        "id": "uIqfWbv3645S"
      },
      "source": [
        "##Output the number of null values (by column)"
      ]
    },
    {
      "cell_type": "code",
      "metadata": {
        "colab": {
          "base_uri": "https://localhost:8080/"
        },
        "id": "tC-5G2dYMx3g",
        "outputId": "6947cafd-7f18-4edd-e63b-71f57d494bca"
      },
      "source": [
        "##Output the number of null values (by column)\r\n",
        "Null_Columns = df.isnull().sum()\r\n",
        "print(\"Total Number of Null Values by Columns in the Dataset\")\r\n",
        "print(Null_Columns)"
      ],
      "execution_count": 5,
      "outputs": [
        {
          "output_type": "stream",
          "text": [
            "Total Number of Null Values by Columns in the Dataset\n",
            "Date                0\n",
            "Station Area        0\n",
            "Description         0\n",
            "TOC                 0\n",
            "ORD                 0\n",
            "MOB              1245\n",
            "IA               7594\n",
            "LS                  0\n",
            "AH              38403\n",
            "MAV                26\n",
            "CD                 26\n",
            "dtype: int64\n"
          ],
          "name": "stdout"
        }
      ]
    },
    {
      "cell_type": "markdown",
      "metadata": {
        "id": "E4t7wswc7IRp"
      },
      "source": [
        "##Output the number of null values for all columns"
      ]
    },
    {
      "cell_type": "code",
      "metadata": {
        "colab": {
          "base_uri": "https://localhost:8080/"
        },
        "id": "wSH9DETcMxtr",
        "outputId": "2b140b87-90cb-4f26-ac67-e588e9a01ed9"
      },
      "source": [
        "#Count of Null columns\r\n",
        "Total_Null_col = df.isnull().sum().sum()\r\n",
        "print(f\"Total Number of Null Values in the Dataset : {Total_Null_col:,}\")"
      ],
      "execution_count": 6,
      "outputs": [
        {
          "output_type": "stream",
          "text": [
            "Total Number of Null Values in the Dataset : 47,294\n"
          ],
          "name": "stdout"
        }
      ]
    },
    {
      "cell_type": "markdown",
      "metadata": {
        "id": "nr8RDgts7xhy"
      },
      "source": [
        "##Output the total number of call outs by Station Area"
      ]
    },
    {
      "cell_type": "code",
      "metadata": {
        "id": "dNSP6IbzMxZ0",
        "colab": {
          "base_uri": "https://localhost:8080/",
          "height": 576
        },
        "outputId": "d11dd09a-249a-4c2b-da42-a8de711d5d5b"
      },
      "source": [
        " df.groupby('Station Area').Date.agg(['count'])"
      ],
      "execution_count": 7,
      "outputs": [
        {
          "output_type": "execute_result",
          "data": {
            "text/html": [
              "<div>\n",
              "<style scoped>\n",
              "    .dataframe tbody tr th:only-of-type {\n",
              "        vertical-align: middle;\n",
              "    }\n",
              "\n",
              "    .dataframe tbody tr th {\n",
              "        vertical-align: top;\n",
              "    }\n",
              "\n",
              "    .dataframe thead th {\n",
              "        text-align: right;\n",
              "    }\n",
              "</style>\n",
              "<table border=\"1\" class=\"dataframe\">\n",
              "  <thead>\n",
              "    <tr style=\"text-align: right;\">\n",
              "      <th></th>\n",
              "      <th>count</th>\n",
              "    </tr>\n",
              "    <tr>\n",
              "      <th>Station Area</th>\n",
              "      <th></th>\n",
              "    </tr>\n",
              "  </thead>\n",
              "  <tbody>\n",
              "    <tr>\n",
              "      <th>Balbriggan</th>\n",
              "      <td>688</td>\n",
              "    </tr>\n",
              "    <tr>\n",
              "      <th>Blanchardstown</th>\n",
              "      <td>2089</td>\n",
              "    </tr>\n",
              "    <tr>\n",
              "      <th>Dolphins Barn</th>\n",
              "      <td>4018</td>\n",
              "    </tr>\n",
              "    <tr>\n",
              "      <th>Donnybrook</th>\n",
              "      <td>1787</td>\n",
              "    </tr>\n",
              "    <tr>\n",
              "      <th>Dun Laoghaire</th>\n",
              "      <td>3271</td>\n",
              "    </tr>\n",
              "    <tr>\n",
              "      <th>Dunshaughlin</th>\n",
              "      <td>2</td>\n",
              "    </tr>\n",
              "    <tr>\n",
              "      <th>Finglas</th>\n",
              "      <td>3030</td>\n",
              "    </tr>\n",
              "    <tr>\n",
              "      <th>Kilbarrack</th>\n",
              "      <td>3548</td>\n",
              "    </tr>\n",
              "    <tr>\n",
              "      <th>MH14</th>\n",
              "      <td>1</td>\n",
              "    </tr>\n",
              "    <tr>\n",
              "      <th>North Strand</th>\n",
              "      <td>1645</td>\n",
              "    </tr>\n",
              "    <tr>\n",
              "      <th>Phibsborough</th>\n",
              "      <td>3160</td>\n",
              "    </tr>\n",
              "    <tr>\n",
              "      <th>Rathfarnham</th>\n",
              "      <td>2129</td>\n",
              "    </tr>\n",
              "    <tr>\n",
              "      <th>Skerries</th>\n",
              "      <td>449</td>\n",
              "    </tr>\n",
              "    <tr>\n",
              "      <th>Swords</th>\n",
              "      <td>2614</td>\n",
              "    </tr>\n",
              "    <tr>\n",
              "      <th>Tallaght</th>\n",
              "      <td>6525</td>\n",
              "    </tr>\n",
              "    <tr>\n",
              "      <th>Tara St</th>\n",
              "      <td>3600</td>\n",
              "    </tr>\n",
              "  </tbody>\n",
              "</table>\n",
              "</div>"
            ],
            "text/plain": [
              "                count\n",
              "Station Area         \n",
              "Balbriggan        688\n",
              "Blanchardstown   2089\n",
              "Dolphins Barn    4018\n",
              "Donnybrook       1787\n",
              "Dun Laoghaire    3271\n",
              "Dunshaughlin        2\n",
              "Finglas          3030\n",
              "Kilbarrack       3548\n",
              "MH14                1\n",
              "North Strand     1645\n",
              "Phibsborough     3160\n",
              "Rathfarnham      2129\n",
              "Skerries          449\n",
              "Swords           2614\n",
              "Tallaght         6525\n",
              "Tara St          3600"
            ]
          },
          "metadata": {
            "tags": []
          },
          "execution_count": 7
        }
      ]
    },
    {
      "cell_type": "markdown",
      "metadata": {
        "id": "6XIdKeSTJ9FA"
      },
      "source": [
        "##Output the total number of call outs by Station Area and Date."
      ]
    },
    {
      "cell_type": "code",
      "metadata": {
        "colab": {
          "base_uri": "https://localhost:8080/",
          "height": 450
        },
        "id": "qhd7LesNKEG0",
        "outputId": "784d7394-1420-4f40-fc6c-86471a3035f8"
      },
      "source": [
        "df.groupby(['Station Area','Date']).TOC.agg(['count'])"
      ],
      "execution_count": 9,
      "outputs": [
        {
          "output_type": "execute_result",
          "data": {
            "text/html": [
              "<div>\n",
              "<style scoped>\n",
              "    .dataframe tbody tr th:only-of-type {\n",
              "        vertical-align: middle;\n",
              "    }\n",
              "\n",
              "    .dataframe tbody tr th {\n",
              "        vertical-align: top;\n",
              "    }\n",
              "\n",
              "    .dataframe thead th {\n",
              "        text-align: right;\n",
              "    }\n",
              "</style>\n",
              "<table border=\"1\" class=\"dataframe\">\n",
              "  <thead>\n",
              "    <tr style=\"text-align: right;\">\n",
              "      <th></th>\n",
              "      <th></th>\n",
              "      <th>count</th>\n",
              "    </tr>\n",
              "    <tr>\n",
              "      <th>Station Area</th>\n",
              "      <th>Date</th>\n",
              "      <th></th>\n",
              "    </tr>\n",
              "  </thead>\n",
              "  <tbody>\n",
              "    <tr>\n",
              "      <th rowspan=\"5\" valign=\"top\">Balbriggan</th>\n",
              "      <th>01/01/2013</th>\n",
              "      <td>3</td>\n",
              "    </tr>\n",
              "    <tr>\n",
              "      <th>01/01/2014</th>\n",
              "      <td>1</td>\n",
              "    </tr>\n",
              "    <tr>\n",
              "      <th>01/02/2014</th>\n",
              "      <td>2</td>\n",
              "    </tr>\n",
              "    <tr>\n",
              "      <th>01/03/2013</th>\n",
              "      <td>1</td>\n",
              "    </tr>\n",
              "    <tr>\n",
              "      <th>01/03/2014</th>\n",
              "      <td>1</td>\n",
              "    </tr>\n",
              "    <tr>\n",
              "      <th>...</th>\n",
              "      <th>...</th>\n",
              "      <td>...</td>\n",
              "    </tr>\n",
              "    <tr>\n",
              "      <th rowspan=\"5\" valign=\"top\">Tara St</th>\n",
              "      <th>31/10/2013</th>\n",
              "      <td>9</td>\n",
              "    </tr>\n",
              "    <tr>\n",
              "      <th>31/10/2014</th>\n",
              "      <td>11</td>\n",
              "    </tr>\n",
              "    <tr>\n",
              "      <th>31/10/2015</th>\n",
              "      <td>5</td>\n",
              "    </tr>\n",
              "    <tr>\n",
              "      <th>31/12/2013</th>\n",
              "      <td>4</td>\n",
              "    </tr>\n",
              "    <tr>\n",
              "      <th>31/12/2014</th>\n",
              "      <td>3</td>\n",
              "    </tr>\n",
              "  </tbody>\n",
              "</table>\n",
              "<p>12483 rows × 1 columns</p>\n",
              "</div>"
            ],
            "text/plain": [
              "                         count\n",
              "Station Area Date             \n",
              "Balbriggan   01/01/2013      3\n",
              "             01/01/2014      1\n",
              "             01/02/2014      2\n",
              "             01/03/2013      1\n",
              "             01/03/2014      1\n",
              "...                        ...\n",
              "Tara St      31/10/2013      9\n",
              "             31/10/2014     11\n",
              "             31/10/2015      5\n",
              "             31/12/2013      4\n",
              "             31/12/2014      3\n",
              "\n",
              "[12483 rows x 1 columns]"
            ]
          },
          "metadata": {
            "tags": []
          },
          "execution_count": 9
        }
      ]
    },
    {
      "cell_type": "markdown",
      "metadata": {
        "id": "bsTDo1-rNAyQ"
      },
      "source": [
        "##Output the total number of call outs by Station Area and Date where the description is either Fire Car or Fire Alarm."
      ]
    },
    {
      "cell_type": "code",
      "metadata": {
        "colab": {
          "base_uri": "https://localhost:8080/",
          "height": 450
        },
        "id": "FrZDXc5ONE0x",
        "outputId": "01794b71-667f-43e1-8225-48432f7c37cc"
      },
      "source": [
        "df[(df.Description == 'Fire CAR') | (df.Description == 'Fire ALARM')].groupby(['Station Area','Date']).TOC.agg(['count'])"
      ],
      "execution_count": 10,
      "outputs": [
        {
          "output_type": "execute_result",
          "data": {
            "text/html": [
              "<div>\n",
              "<style scoped>\n",
              "    .dataframe tbody tr th:only-of-type {\n",
              "        vertical-align: middle;\n",
              "    }\n",
              "\n",
              "    .dataframe tbody tr th {\n",
              "        vertical-align: top;\n",
              "    }\n",
              "\n",
              "    .dataframe thead th {\n",
              "        text-align: right;\n",
              "    }\n",
              "</style>\n",
              "<table border=\"1\" class=\"dataframe\">\n",
              "  <thead>\n",
              "    <tr style=\"text-align: right;\">\n",
              "      <th></th>\n",
              "      <th></th>\n",
              "      <th>count</th>\n",
              "    </tr>\n",
              "    <tr>\n",
              "      <th>Station Area</th>\n",
              "      <th>Date</th>\n",
              "      <th></th>\n",
              "    </tr>\n",
              "  </thead>\n",
              "  <tbody>\n",
              "    <tr>\n",
              "      <th rowspan=\"5\" valign=\"top\">Balbriggan</th>\n",
              "      <th>01/01/2013</th>\n",
              "      <td>3</td>\n",
              "    </tr>\n",
              "    <tr>\n",
              "      <th>01/01/2014</th>\n",
              "      <td>1</td>\n",
              "    </tr>\n",
              "    <tr>\n",
              "      <th>01/04/2013</th>\n",
              "      <td>1</td>\n",
              "    </tr>\n",
              "    <tr>\n",
              "      <th>01/05/2013</th>\n",
              "      <td>1</td>\n",
              "    </tr>\n",
              "    <tr>\n",
              "      <th>01/11/2015</th>\n",
              "      <td>1</td>\n",
              "    </tr>\n",
              "    <tr>\n",
              "      <th>...</th>\n",
              "      <th>...</th>\n",
              "      <td>...</td>\n",
              "    </tr>\n",
              "    <tr>\n",
              "      <th rowspan=\"5\" valign=\"top\">Tara St</th>\n",
              "      <th>31/07/2015</th>\n",
              "      <td>2</td>\n",
              "    </tr>\n",
              "    <tr>\n",
              "      <th>31/08/2013</th>\n",
              "      <td>1</td>\n",
              "    </tr>\n",
              "    <tr>\n",
              "      <th>31/10/2014</th>\n",
              "      <td>2</td>\n",
              "    </tr>\n",
              "    <tr>\n",
              "      <th>31/10/2015</th>\n",
              "      <td>2</td>\n",
              "    </tr>\n",
              "    <tr>\n",
              "      <th>31/12/2013</th>\n",
              "      <td>1</td>\n",
              "    </tr>\n",
              "  </tbody>\n",
              "</table>\n",
              "<p>6792 rows × 1 columns</p>\n",
              "</div>"
            ],
            "text/plain": [
              "                         count\n",
              "Station Area Date             \n",
              "Balbriggan   01/01/2013      3\n",
              "             01/01/2014      1\n",
              "             01/04/2013      1\n",
              "             01/05/2013      1\n",
              "             01/11/2015      1\n",
              "...                        ...\n",
              "Tara St      31/07/2015      2\n",
              "             31/08/2013      1\n",
              "             31/10/2014      2\n",
              "             31/10/2015      2\n",
              "             31/12/2013      1\n",
              "\n",
              "[6792 rows x 1 columns]"
            ]
          },
          "metadata": {
            "tags": []
          },
          "execution_count": 10
        }
      ]
    },
    {
      "cell_type": "markdown",
      "metadata": {
        "id": "2n19zrRW_nnJ"
      },
      "source": [
        "##Replace any instance of “,” (in any column) with an empty string."
      ]
    },
    {
      "cell_type": "code",
      "metadata": {
        "colab": {
          "base_uri": "https://localhost:8080/"
        },
        "id": "pJ_Qsgn__oM5",
        "outputId": "cb7f1335-194a-4ae0-bc08-a3025c2b1209"
      },
      "source": [
        "#Checking if the Value \",\" exists in the Dataset\r\n",
        "exists = ',' in df.values\r\n",
        "print(exists)"
      ],
      "execution_count": 11,
      "outputs": [
        {
          "output_type": "stream",
          "text": [
            "True\n"
          ],
          "name": "stdout"
        }
      ]
    },
    {
      "cell_type": "code",
      "metadata": {
        "id": "sFpPIyTDCYiT"
      },
      "source": [
        "#Replacing the \",\" with an empty String\r\n",
        "df = df.replace(',','')"
      ],
      "execution_count": 12,
      "outputs": []
    },
    {
      "cell_type": "code",
      "metadata": {
        "colab": {
          "base_uri": "https://localhost:8080/"
        },
        "id": "8zamGQEwCZmf",
        "outputId": "e90016ef-1520-47cc-b0c2-c10568bf937c"
      },
      "source": [
        "#Confirming the Replacement Worked\r\n",
        "exists = ',' in df.values\r\n",
        "print(exists)"
      ],
      "execution_count": 13,
      "outputs": [
        {
          "output_type": "stream",
          "text": [
            "False\n"
          ],
          "name": "stdout"
        }
      ]
    },
    {
      "cell_type": "markdown",
      "metadata": {
        "id": "U0frT-xEDFk_"
      },
      "source": [
        "##Replace any instance of “-” (in any column) with an empty string."
      ]
    },
    {
      "cell_type": "code",
      "metadata": {
        "colab": {
          "base_uri": "https://localhost:8080/"
        },
        "id": "T9IlYq-0DSXq",
        "outputId": "cb32469a-90ad-4ee0-96f1-f10cf4f29621"
      },
      "source": [
        "#Checking if the Value \"-\" exists in the Dataset\r\n",
        "exists = '-' in df.values\r\n",
        "print(exists)"
      ],
      "execution_count": 14,
      "outputs": [
        {
          "output_type": "stream",
          "text": [
            "True\n"
          ],
          "name": "stdout"
        }
      ]
    },
    {
      "cell_type": "code",
      "metadata": {
        "id": "Pdav45MDDSXx"
      },
      "source": [
        "#Replacing the \"-\" with an empty String\r\n",
        "df = df.replace('-','')"
      ],
      "execution_count": 15,
      "outputs": []
    },
    {
      "cell_type": "code",
      "metadata": {
        "colab": {
          "base_uri": "https://localhost:8080/"
        },
        "id": "XKnBTF88DSXy",
        "outputId": "ffbfadbb-8d52-41d5-f93f-8636a1975f67"
      },
      "source": [
        "#Confirming the Replacement Worked\r\n",
        "exists = '-' in df.values\r\n",
        "print(exists)"
      ],
      "execution_count": 16,
      "outputs": [
        {
          "output_type": "stream",
          "text": [
            "False\n"
          ],
          "name": "stdout"
        }
      ]
    },
    {
      "cell_type": "markdown",
      "metadata": {
        "id": "5mTqrepZDemQ"
      },
      "source": [
        "##Drop rows for the columns (AH, MAV, CD) where at least one row value is NULL"
      ]
    },
    {
      "cell_type": "code",
      "metadata": {
        "colab": {
          "base_uri": "https://localhost:8080/"
        },
        "id": "YI7xfWfPI4I3",
        "outputId": "d9accc36-7e3d-4402-e2cd-17488b21cb68"
      },
      "source": [
        "#Drop Na Values as seen above\r\n",
        "#Null Values for the columns are AH = 38,403 MAV = 26 CD = 26\r\n",
        "No_of_rows = df.shape[0]\r\n",
        "print(f\"Total Number of Rows in the Dataset before Null rows are removed are removed {No_of_rows:,}\")\r\n",
        "\r\n",
        "df = df.dropna(subset=['AH', 'MAV','CD'])\r\n",
        "\r\n",
        "print(\"Null Rows Removed\")\r\n",
        "\r\n",
        "No_of_rows = df.shape[0]\r\n",
        "print(f\"Total Number of Rows in the Dataset After Null rows are removed {No_of_rows}\")"
      ],
      "execution_count": 17,
      "outputs": [
        {
          "output_type": "stream",
          "text": [
            "Total Number of Rows in the Dataset before Null rows are removed are removed 38,556\n",
            "Null Rows Removed\n",
            "Total Number of Rows in the Dataset After Null rows are removed 153\n"
          ],
          "name": "stdout"
        }
      ]
    },
    {
      "cell_type": "markdown",
      "metadata": {
        "id": "g60zUPD-7K6b"
      },
      "source": [
        "##Drop any duplicate rows (except for the first occurrence)."
      ]
    },
    {
      "cell_type": "code",
      "metadata": {
        "colab": {
          "base_uri": "https://localhost:8080/"
        },
        "id": "BQ_cYTcc9UsL",
        "outputId": "acc5a164-749f-46fc-e7ff-5012a38046d5"
      },
      "source": [
        "#Column Count After removing Nulls\r\n",
        "##Count of Rows\r\n",
        "No_of_rows = df.shape[0]\r\n",
        "print(f\"Total Number of Rows in the Dataset before Duplicates are removed {No_of_rows}\")\r\n",
        "\r\n",
        "df = df.drop_duplicates(keep='first')\r\n",
        "print(\"Duplcates removed\")\r\n",
        "No_of_rows = df.shape[0]\r\n",
        "print(f\"Total Number of Rows in the Dataset After Duplicates are removed {No_of_rows}\")"
      ],
      "execution_count": 18,
      "outputs": [
        {
          "output_type": "stream",
          "text": [
            "Total Number of Rows in the Dataset before Duplicates are removed 153\n",
            "Duplcates removed\n",
            "Total Number of Rows in the Dataset After Duplicates are removed 152\n"
          ],
          "name": "stdout"
        }
      ]
    },
    {
      "cell_type": "markdown",
      "metadata": {
        "id": "ZJ8RzfdUjszh"
      },
      "source": [
        "##Output the minimum time difference between TOC and ORD."
      ]
    },
    {
      "cell_type": "code",
      "metadata": {
        "colab": {
          "base_uri": "https://localhost:8080/"
        },
        "id": "yfYu2T8slnsp",
        "outputId": "3ed92cfb-b333-469b-fa85-a7c012876ac1"
      },
      "source": [
        "## Convert TOC and ORD to datetime to aid difference in time\r\n",
        "df['TOC'] = pd.to_datetime(df['Date'] + ' ' + df['TOC'])\r\n",
        "df['ORD'] = pd.to_datetime(df['Date'] + ' ' + df['ORD'])\r\n",
        "##Add new Column that shows the time difference between TOC and ORD\r\n",
        "df[\"Diff_ORD_TOC\"] = (df['ORD'] -df['TOC'])\r\n",
        "\r\n",
        "##Get the Minimum time difference\r\n",
        "Min_TOC_ORD = min(df[\"Diff_ORD_TOC\"]).seconds\r\n",
        "print(f\"The Minimum time diffrence between time the call is received in the control centre and time the vehicle is mobilised to the incident by a control operator is : {Min_TOC_ORD} seconds\")"
      ],
      "execution_count": 19,
      "outputs": [
        {
          "output_type": "stream",
          "text": [
            "The Minimum time diffrence between time the call is received in the control centre and time the vehicle is mobilised to the incident by a control operator is : 30 seconds\n"
          ],
          "name": "stdout"
        }
      ]
    },
    {
      "cell_type": "markdown",
      "metadata": {
        "id": "8Na08UfNAhv6"
      },
      "source": [
        "##Export"
      ]
    },
    {
      "cell_type": "code",
      "metadata": {
        "colab": {
          "base_uri": "https://localhost:8080/",
          "height": 289
        },
        "id": "AXF_L6v7KvZm",
        "outputId": "522263bd-4b94-49c3-ca6d-f1c8ed6a747b"
      },
      "source": [
        "#Preparing the columns for upload into an SQL database\r\n",
        "df['MOB'] = pd.to_datetime(df['Date'] + ' ' + df['MOB'])\r\n",
        "df['IA'] = pd.to_datetime(df['Date'] + ' ' + df['IA'])\r\n",
        "df['LS'] = pd.to_datetime(df['Date'] + ' ' + df['LS'])\r\n",
        "df['AH'] = pd.to_datetime(df['Date'] + ' ' + df['AH'])\r\n",
        "df['MAV'] = pd.to_datetime(df['Date'] + ' ' + df['MAV'])\r\n",
        "df['CD'] = pd.to_datetime(df['Date'] + ' ' + df['CD'])\r\n",
        "df['Date'] = pd.to_datetime(df['Date'])\r\n",
        "df=df.rename(columns = {'Station Area':'Station_Area'})\r\n",
        "df.head()"
      ],
      "execution_count": 20,
      "outputs": [
        {
          "output_type": "execute_result",
          "data": {
            "text/html": [
              "<div>\n",
              "<style scoped>\n",
              "    .dataframe tbody tr th:only-of-type {\n",
              "        vertical-align: middle;\n",
              "    }\n",
              "\n",
              "    .dataframe tbody tr th {\n",
              "        vertical-align: top;\n",
              "    }\n",
              "\n",
              "    .dataframe thead th {\n",
              "        text-align: right;\n",
              "    }\n",
              "</style>\n",
              "<table border=\"1\" class=\"dataframe\">\n",
              "  <thead>\n",
              "    <tr style=\"text-align: right;\">\n",
              "      <th></th>\n",
              "      <th>Date</th>\n",
              "      <th>Station_Area</th>\n",
              "      <th>Description</th>\n",
              "      <th>TOC</th>\n",
              "      <th>ORD</th>\n",
              "      <th>MOB</th>\n",
              "      <th>IA</th>\n",
              "      <th>LS</th>\n",
              "      <th>AH</th>\n",
              "      <th>MAV</th>\n",
              "      <th>CD</th>\n",
              "      <th>Diff_ORD_TOC</th>\n",
              "    </tr>\n",
              "  </thead>\n",
              "  <tbody>\n",
              "    <tr>\n",
              "      <th>0</th>\n",
              "      <td>2013-01-01</td>\n",
              "      <td>Rathfarnham</td>\n",
              "      <td>S/S OTHER</td>\n",
              "      <td>2013-01-01 01:27:19</td>\n",
              "      <td>2013-01-01 01:28:58</td>\n",
              "      <td>2013-01-01 01:30:47</td>\n",
              "      <td>2013-01-01 01:58:54</td>\n",
              "      <td>2013-01-01 02:08:54</td>\n",
              "      <td>2013-01-01 02:28:54</td>\n",
              "      <td>2013-01-01 02:48:54</td>\n",
              "      <td>2013-01-01 03:08:54</td>\n",
              "      <td>0 days 00:01:39</td>\n",
              "    </tr>\n",
              "    <tr>\n",
              "      <th>1</th>\n",
              "      <td>2013-01-01</td>\n",
              "      <td>Tallaght</td>\n",
              "      <td>Fire CAR</td>\n",
              "      <td>2013-01-01 01:49:57</td>\n",
              "      <td>2013-01-01 01:50:40</td>\n",
              "      <td>2013-01-01 01:51:47</td>\n",
              "      <td>2013-01-01 01:55:43</td>\n",
              "      <td>2013-01-01 02:05:43</td>\n",
              "      <td>2013-01-01 02:25:43</td>\n",
              "      <td>2013-01-01 02:45:43</td>\n",
              "      <td>2013-01-01 03:05:43</td>\n",
              "      <td>0 days 00:00:43</td>\n",
              "    </tr>\n",
              "    <tr>\n",
              "      <th>2</th>\n",
              "      <td>2013-01-01</td>\n",
              "      <td>North Strand</td>\n",
              "      <td>S/S RTA</td>\n",
              "      <td>2013-01-01 03:35:24</td>\n",
              "      <td>2013-01-01 03:36:14</td>\n",
              "      <td>2013-01-01 03:38:28</td>\n",
              "      <td>2013-01-01 03:41:20</td>\n",
              "      <td>2013-01-01 03:51:20</td>\n",
              "      <td>2013-01-01 04:11:20</td>\n",
              "      <td>2013-01-01 04:31:20</td>\n",
              "      <td>2013-01-01 04:51:20</td>\n",
              "      <td>0 days 00:00:50</td>\n",
              "    </tr>\n",
              "    <tr>\n",
              "      <th>3</th>\n",
              "      <td>2013-01-01</td>\n",
              "      <td>Tallaght</td>\n",
              "      <td>Fire CAR</td>\n",
              "      <td>2013-01-01 04:12:51</td>\n",
              "      <td>2013-01-01 04:13:56</td>\n",
              "      <td>2013-01-01 04:14:32</td>\n",
              "      <td>2013-01-01 04:20:48</td>\n",
              "      <td>2013-01-01 04:30:48</td>\n",
              "      <td>2013-01-01 04:50:48</td>\n",
              "      <td>2013-01-01 05:10:48</td>\n",
              "      <td>2013-01-01 05:30:48</td>\n",
              "      <td>0 days 00:01:05</td>\n",
              "    </tr>\n",
              "    <tr>\n",
              "      <th>4</th>\n",
              "      <td>2013-01-01</td>\n",
              "      <td>Finglas</td>\n",
              "      <td>Fire DOM PER</td>\n",
              "      <td>2013-01-01 04:14:24</td>\n",
              "      <td>2013-01-01 04:15:36</td>\n",
              "      <td>2013-01-01 04:17:37</td>\n",
              "      <td>2013-01-01 04:20:47</td>\n",
              "      <td>2013-01-01 04:30:47</td>\n",
              "      <td>2013-01-01 04:50:47</td>\n",
              "      <td>2013-01-01 05:10:47</td>\n",
              "      <td>2013-01-01 05:30:47</td>\n",
              "      <td>0 days 00:01:12</td>\n",
              "    </tr>\n",
              "  </tbody>\n",
              "</table>\n",
              "</div>"
            ],
            "text/plain": [
              "        Date  Station_Area  ...                  CD    Diff_ORD_TOC\n",
              "0 2013-01-01   Rathfarnham  ... 2013-01-01 03:08:54 0 days 00:01:39\n",
              "1 2013-01-01      Tallaght  ... 2013-01-01 03:05:43 0 days 00:00:43\n",
              "2 2013-01-01  North Strand  ... 2013-01-01 04:51:20 0 days 00:00:50\n",
              "3 2013-01-01      Tallaght  ... 2013-01-01 05:30:48 0 days 00:01:05\n",
              "4 2013-01-01       Finglas  ... 2013-01-01 05:30:47 0 days 00:01:12\n",
              "\n",
              "[5 rows x 12 columns]"
            ]
          },
          "metadata": {
            "tags": []
          },
          "execution_count": 20
        }
      ]
    },
    {
      "cell_type": "code",
      "metadata": {
        "id": "B6n6IkVPzQU9"
      },
      "source": [
        "  import sqlite3 as dd\r\n",
        "  ##Creating/Connecting to a database\r\n",
        "  db = dd.connect(\"FIreAndCallouts.db\")\r\n",
        "  db.execute(\"drop table if exists results\")\r\n",
        "  try:\r\n",
        "    ###Creating table on database created with column names\r\n",
        "    db.execute(\"create table FireAndCalloutsData(Date date, Station_Area text,Description text,TOC date,ORD date,MOB date,IA date, LS date,AH date,MAV date,CD date)\")\r\n",
        "  except:\r\n",
        "    print(\"Already table existed !!\")"
      ],
      "execution_count": 21,
      "outputs": []
    },
    {
      "cell_type": "code",
      "metadata": {
        "colab": {
          "base_uri": "https://localhost:8080/"
        },
        "id": "1A1oD4Xo0ICE",
        "outputId": "a420ce85-6a2c-4ca4-c36b-f0d692698f22"
      },
      "source": [
        "for index, row in df.iterrows():\r\n",
        "  cmd = \"insert into FireAndCalloutsData(Date, Station_Area,Description,TOC,ORD,MOB,IA,LS,AH,MAV,CD) values('{}','{}','{}','{}','{}','{}','{}','{}','{}','{}','{}')\".format(row.Date, row.Station_Area, row.Description,row.TOC,row.ORD,row.MOB,row.IA,row.LS,row.AH,row.MAV,row.CD)\r\n",
        "  ###Check to confirm if the number exists and condition to follow if possible\r\n",
        "  db.execute(cmd)\r\n",
        "db.commit()\r\n",
        "print(\"Record Sucessfully Added\")"
      ],
      "execution_count": 22,
      "outputs": [
        {
          "output_type": "stream",
          "text": [
            "Record Sucessfully Added\n"
          ],
          "name": "stdout"
        }
      ]
    },
    {
      "cell_type": "code",
      "metadata": {
        "colab": {
          "base_uri": "https://localhost:8080/",
          "height": 289
        },
        "id": "t3YdTVuD1GGb",
        "outputId": "d86005b1-1db4-4c89-cccf-11cb96fb9b6d"
      },
      "source": [
        "cmd = \"Select * from FireAndCalloutsData\"\r\n",
        "Database_Data = pd.read_sql_query(cmd, db)\r\n",
        "Database_Data.head()"
      ],
      "execution_count": 23,
      "outputs": [
        {
          "output_type": "execute_result",
          "data": {
            "text/html": [
              "<div>\n",
              "<style scoped>\n",
              "    .dataframe tbody tr th:only-of-type {\n",
              "        vertical-align: middle;\n",
              "    }\n",
              "\n",
              "    .dataframe tbody tr th {\n",
              "        vertical-align: top;\n",
              "    }\n",
              "\n",
              "    .dataframe thead th {\n",
              "        text-align: right;\n",
              "    }\n",
              "</style>\n",
              "<table border=\"1\" class=\"dataframe\">\n",
              "  <thead>\n",
              "    <tr style=\"text-align: right;\">\n",
              "      <th></th>\n",
              "      <th>Date</th>\n",
              "      <th>Station_Area</th>\n",
              "      <th>Description</th>\n",
              "      <th>TOC</th>\n",
              "      <th>ORD</th>\n",
              "      <th>MOB</th>\n",
              "      <th>IA</th>\n",
              "      <th>LS</th>\n",
              "      <th>AH</th>\n",
              "      <th>MAV</th>\n",
              "      <th>CD</th>\n",
              "    </tr>\n",
              "  </thead>\n",
              "  <tbody>\n",
              "    <tr>\n",
              "      <th>0</th>\n",
              "      <td>2013-01-01 00:00:00</td>\n",
              "      <td>Rathfarnham</td>\n",
              "      <td>S/S OTHER</td>\n",
              "      <td>2013-01-01 01:27:19</td>\n",
              "      <td>2013-01-01 01:28:58</td>\n",
              "      <td>2013-01-01 01:30:47</td>\n",
              "      <td>2013-01-01 01:58:54</td>\n",
              "      <td>2013-01-01 02:08:54</td>\n",
              "      <td>2013-01-01 02:28:54</td>\n",
              "      <td>2013-01-01 02:48:54</td>\n",
              "      <td>2013-01-01 03:08:54</td>\n",
              "    </tr>\n",
              "    <tr>\n",
              "      <th>1</th>\n",
              "      <td>2013-01-01 00:00:00</td>\n",
              "      <td>Tallaght</td>\n",
              "      <td>Fire CAR</td>\n",
              "      <td>2013-01-01 01:49:57</td>\n",
              "      <td>2013-01-01 01:50:40</td>\n",
              "      <td>2013-01-01 01:51:47</td>\n",
              "      <td>2013-01-01 01:55:43</td>\n",
              "      <td>2013-01-01 02:05:43</td>\n",
              "      <td>2013-01-01 02:25:43</td>\n",
              "      <td>2013-01-01 02:45:43</td>\n",
              "      <td>2013-01-01 03:05:43</td>\n",
              "    </tr>\n",
              "    <tr>\n",
              "      <th>2</th>\n",
              "      <td>2013-01-01 00:00:00</td>\n",
              "      <td>North Strand</td>\n",
              "      <td>S/S RTA</td>\n",
              "      <td>2013-01-01 03:35:24</td>\n",
              "      <td>2013-01-01 03:36:14</td>\n",
              "      <td>2013-01-01 03:38:28</td>\n",
              "      <td>2013-01-01 03:41:20</td>\n",
              "      <td>2013-01-01 03:51:20</td>\n",
              "      <td>2013-01-01 04:11:20</td>\n",
              "      <td>2013-01-01 04:31:20</td>\n",
              "      <td>2013-01-01 04:51:20</td>\n",
              "    </tr>\n",
              "    <tr>\n",
              "      <th>3</th>\n",
              "      <td>2013-01-01 00:00:00</td>\n",
              "      <td>Tallaght</td>\n",
              "      <td>Fire CAR</td>\n",
              "      <td>2013-01-01 04:12:51</td>\n",
              "      <td>2013-01-01 04:13:56</td>\n",
              "      <td>2013-01-01 04:14:32</td>\n",
              "      <td>2013-01-01 04:20:48</td>\n",
              "      <td>2013-01-01 04:30:48</td>\n",
              "      <td>2013-01-01 04:50:48</td>\n",
              "      <td>2013-01-01 05:10:48</td>\n",
              "      <td>2013-01-01 05:30:48</td>\n",
              "    </tr>\n",
              "    <tr>\n",
              "      <th>4</th>\n",
              "      <td>2013-01-01 00:00:00</td>\n",
              "      <td>Finglas</td>\n",
              "      <td>Fire DOM PER</td>\n",
              "      <td>2013-01-01 04:14:24</td>\n",
              "      <td>2013-01-01 04:15:36</td>\n",
              "      <td>2013-01-01 04:17:37</td>\n",
              "      <td>2013-01-01 04:20:47</td>\n",
              "      <td>2013-01-01 04:30:47</td>\n",
              "      <td>2013-01-01 04:50:47</td>\n",
              "      <td>2013-01-01 05:10:47</td>\n",
              "      <td>2013-01-01 05:30:47</td>\n",
              "    </tr>\n",
              "  </tbody>\n",
              "</table>\n",
              "</div>"
            ],
            "text/plain": [
              "                  Date  Station_Area  ...                  MAV                   CD\n",
              "0  2013-01-01 00:00:00   Rathfarnham  ...  2013-01-01 02:48:54  2013-01-01 03:08:54\n",
              "1  2013-01-01 00:00:00      Tallaght  ...  2013-01-01 02:45:43  2013-01-01 03:05:43\n",
              "2  2013-01-01 00:00:00  North Strand  ...  2013-01-01 04:31:20  2013-01-01 04:51:20\n",
              "3  2013-01-01 00:00:00      Tallaght  ...  2013-01-01 05:10:48  2013-01-01 05:30:48\n",
              "4  2013-01-01 00:00:00       Finglas  ...  2013-01-01 05:10:47  2013-01-01 05:30:47\n",
              "\n",
              "[5 rows x 11 columns]"
            ]
          },
          "metadata": {
            "tags": []
          },
          "execution_count": 23
        }
      ]
    }
  ]
}