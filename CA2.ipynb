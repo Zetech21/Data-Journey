{
  "nbformat": 4,
  "nbformat_minor": 0,
  "metadata": {
    "colab": {
      "name": "CA2.ipynb",
      "provenance": [],
      "collapsed_sections": [
        "7upoMajA243Q",
        "YyrSHFFL6zcJ",
        "uIqfWbv3645S",
        "E4t7wswc7IRp",
        "nr8RDgts7xhy",
        "6XIdKeSTJ9FA",
        "bsTDo1-rNAyQ",
        "2n19zrRW_nnJ",
        "U0frT-xEDFk_",
        "5mTqrepZDemQ",
        "g60zUPD-7K6b"
      ],
      "authorship_tag": "ABX9TyP8NGtWNbcQcj1YVL54UNwU"
    },
    "kernelspec": {
      "name": "python3",
      "display_name": "Python 3"
    }
  },
  "cells": [
    {
      "cell_type": "markdown",
      "metadata": {
        "id": "UzGDrUf729Vz"
      },
      "source": [
        "#ETL (Extract, Transform, Load) *Process*"
      ]
    },
    {
      "cell_type": "markdown",
      "metadata": {
        "id": "7upoMajA243Q"
      },
      "source": [
        "##Load the CSV file (using Python)."
      ]
    },
    {
      "cell_type": "code",
      "metadata": {
        "colab": {
          "base_uri": "https://localhost:8080/",
          "height": 197
        },
        "id": "cxcK3KLszquy",
        "outputId": "6fe2d2d5-ad41-4203-e547-d9d2c64b5835"
      },
      "source": [
        "# Load the Pandas libraries with alias 'pd' \r\n",
        "import numpy as np\r\n",
        "import pandas as pd\r\n",
        "# Read data from file 'filename.csv' \r\n",
        "# (in the same directory that your python process is based)\r\n",
        "# Control delimiters, rows, column names with read_csv (see later) \r\n",
        "url = 'https://drive.google.com/file/d/1B0EUA2Y76IqtmPeY6HwVEmaWucw81Ndq/view?usp=sharing'\r\n",
        "path = 'https://drive.google.com/uc?export=download&id='+url.split('/')[-2]\r\n",
        "df = pd.read_csv(path)\r\n",
        "###Top \r\n",
        "df.head()\r\n"
      ],
      "execution_count": 1,
      "outputs": [
        {
          "output_type": "execute_result",
          "data": {
            "text/html": [
              "<div>\n",
              "<style scoped>\n",
              "    .dataframe tbody tr th:only-of-type {\n",
              "        vertical-align: middle;\n",
              "    }\n",
              "\n",
              "    .dataframe tbody tr th {\n",
              "        vertical-align: top;\n",
              "    }\n",
              "\n",
              "    .dataframe thead th {\n",
              "        text-align: right;\n",
              "    }\n",
              "</style>\n",
              "<table border=\"1\" class=\"dataframe\">\n",
              "  <thead>\n",
              "    <tr style=\"text-align: right;\">\n",
              "      <th></th>\n",
              "      <th>Date</th>\n",
              "      <th>Station Area</th>\n",
              "      <th>Description</th>\n",
              "      <th>TOC</th>\n",
              "      <th>ORD</th>\n",
              "      <th>MOB</th>\n",
              "      <th>IA</th>\n",
              "      <th>LS</th>\n",
              "      <th>AH</th>\n",
              "      <th>MAV</th>\n",
              "      <th>CD</th>\n",
              "    </tr>\n",
              "  </thead>\n",
              "  <tbody>\n",
              "    <tr>\n",
              "      <th>0</th>\n",
              "      <td>01/01/2013</td>\n",
              "      <td>Rathfarnham</td>\n",
              "      <td>S/S OTHER</td>\n",
              "      <td>01:27:19</td>\n",
              "      <td>01:28:58</td>\n",
              "      <td>01:30:47</td>\n",
              "      <td>01:58:54</td>\n",
              "      <td>02:08:54</td>\n",
              "      <td>02:28:54</td>\n",
              "      <td>02:48:54</td>\n",
              "      <td>03:08:54</td>\n",
              "    </tr>\n",
              "    <tr>\n",
              "      <th>1</th>\n",
              "      <td>01/01/2013</td>\n",
              "      <td>Tallaght</td>\n",
              "      <td>Fire CAR</td>\n",
              "      <td>01:49:57</td>\n",
              "      <td>01:50:40</td>\n",
              "      <td>01:51:47</td>\n",
              "      <td>01:55:43</td>\n",
              "      <td>02:05:43</td>\n",
              "      <td>02:25:43</td>\n",
              "      <td>02:45:43</td>\n",
              "      <td>03:05:43</td>\n",
              "    </tr>\n",
              "    <tr>\n",
              "      <th>2</th>\n",
              "      <td>01/01/2013</td>\n",
              "      <td>North Strand</td>\n",
              "      <td>S/S RTA</td>\n",
              "      <td>03:35:24</td>\n",
              "      <td>03:36:14</td>\n",
              "      <td>03:38:28</td>\n",
              "      <td>03:41:20</td>\n",
              "      <td>03:51:20</td>\n",
              "      <td>04:11:20</td>\n",
              "      <td>04:31:20</td>\n",
              "      <td>04:51:20</td>\n",
              "    </tr>\n",
              "    <tr>\n",
              "      <th>3</th>\n",
              "      <td>01/01/2013</td>\n",
              "      <td>Tallaght</td>\n",
              "      <td>Fire CAR</td>\n",
              "      <td>04:12:51</td>\n",
              "      <td>04:13:56</td>\n",
              "      <td>04:14:32</td>\n",
              "      <td>04:20:48</td>\n",
              "      <td>04:30:48</td>\n",
              "      <td>04:50:48</td>\n",
              "      <td>05:10:48</td>\n",
              "      <td>05:30:48</td>\n",
              "    </tr>\n",
              "    <tr>\n",
              "      <th>4</th>\n",
              "      <td>01/01/2013</td>\n",
              "      <td>Finglas</td>\n",
              "      <td>Fire DOM PER</td>\n",
              "      <td>04:14:24</td>\n",
              "      <td>04:15:36</td>\n",
              "      <td>04:17:37</td>\n",
              "      <td>04:20:47</td>\n",
              "      <td>04:30:47</td>\n",
              "      <td>04:50:47</td>\n",
              "      <td>05:10:47</td>\n",
              "      <td>05:30:47</td>\n",
              "    </tr>\n",
              "  </tbody>\n",
              "</table>\n",
              "</div>"
            ],
            "text/plain": [
              "         Date  Station Area   Description  ...        AH       MAV        CD\n",
              "0  01/01/2013   Rathfarnham     S/S OTHER  ...  02:28:54  02:48:54  03:08:54\n",
              "1  01/01/2013      Tallaght      Fire CAR  ...  02:25:43  02:45:43  03:05:43\n",
              "2  01/01/2013  North Strand       S/S RTA  ...  04:11:20  04:31:20  04:51:20\n",
              "3  01/01/2013      Tallaght      Fire CAR  ...  04:50:48  05:10:48  05:30:48\n",
              "4  01/01/2013       Finglas  Fire DOM PER  ...  04:50:47  05:10:47  05:30:47\n",
              "\n",
              "[5 rows x 11 columns]"
            ]
          },
          "metadata": {
            "tags": []
          },
          "execution_count": 1
        }
      ]
    },
    {
      "cell_type": "code",
      "metadata": {
        "colab": {
          "base_uri": "https://localhost:8080/",
          "height": 197
        },
        "id": "agpiA3vELiTw",
        "outputId": "1894ae34-2275-484c-b676-7ed38df5ab3b"
      },
      "source": [
        "df['TOC'] = pd.to_datetime(df['Date'] + ' ' + df['TOC'])\r\n",
        "df['ORD'] = pd.to_datetime(df['Date'] + ' ' + df['ORD'])\r\n",
        "adf = df['Date']\r\n",
        "df['Date'] =  pd.to_datetime(df['Date'])\r\n",
        "df.head()"
      ],
      "execution_count": 2,
      "outputs": [
        {
          "output_type": "execute_result",
          "data": {
            "text/html": [
              "<div>\n",
              "<style scoped>\n",
              "    .dataframe tbody tr th:only-of-type {\n",
              "        vertical-align: middle;\n",
              "    }\n",
              "\n",
              "    .dataframe tbody tr th {\n",
              "        vertical-align: top;\n",
              "    }\n",
              "\n",
              "    .dataframe thead th {\n",
              "        text-align: right;\n",
              "    }\n",
              "</style>\n",
              "<table border=\"1\" class=\"dataframe\">\n",
              "  <thead>\n",
              "    <tr style=\"text-align: right;\">\n",
              "      <th></th>\n",
              "      <th>Date</th>\n",
              "      <th>Station Area</th>\n",
              "      <th>Description</th>\n",
              "      <th>TOC</th>\n",
              "      <th>ORD</th>\n",
              "      <th>MOB</th>\n",
              "      <th>IA</th>\n",
              "      <th>LS</th>\n",
              "      <th>AH</th>\n",
              "      <th>MAV</th>\n",
              "      <th>CD</th>\n",
              "    </tr>\n",
              "  </thead>\n",
              "  <tbody>\n",
              "    <tr>\n",
              "      <th>0</th>\n",
              "      <td>2013-01-01</td>\n",
              "      <td>Rathfarnham</td>\n",
              "      <td>S/S OTHER</td>\n",
              "      <td>2013-01-01 01:27:19</td>\n",
              "      <td>2013-01-01 01:28:58</td>\n",
              "      <td>01:30:47</td>\n",
              "      <td>01:58:54</td>\n",
              "      <td>02:08:54</td>\n",
              "      <td>02:28:54</td>\n",
              "      <td>02:48:54</td>\n",
              "      <td>03:08:54</td>\n",
              "    </tr>\n",
              "    <tr>\n",
              "      <th>1</th>\n",
              "      <td>2013-01-01</td>\n",
              "      <td>Tallaght</td>\n",
              "      <td>Fire CAR</td>\n",
              "      <td>2013-01-01 01:49:57</td>\n",
              "      <td>2013-01-01 01:50:40</td>\n",
              "      <td>01:51:47</td>\n",
              "      <td>01:55:43</td>\n",
              "      <td>02:05:43</td>\n",
              "      <td>02:25:43</td>\n",
              "      <td>02:45:43</td>\n",
              "      <td>03:05:43</td>\n",
              "    </tr>\n",
              "    <tr>\n",
              "      <th>2</th>\n",
              "      <td>2013-01-01</td>\n",
              "      <td>North Strand</td>\n",
              "      <td>S/S RTA</td>\n",
              "      <td>2013-01-01 03:35:24</td>\n",
              "      <td>2013-01-01 03:36:14</td>\n",
              "      <td>03:38:28</td>\n",
              "      <td>03:41:20</td>\n",
              "      <td>03:51:20</td>\n",
              "      <td>04:11:20</td>\n",
              "      <td>04:31:20</td>\n",
              "      <td>04:51:20</td>\n",
              "    </tr>\n",
              "    <tr>\n",
              "      <th>3</th>\n",
              "      <td>2013-01-01</td>\n",
              "      <td>Tallaght</td>\n",
              "      <td>Fire CAR</td>\n",
              "      <td>2013-01-01 04:12:51</td>\n",
              "      <td>2013-01-01 04:13:56</td>\n",
              "      <td>04:14:32</td>\n",
              "      <td>04:20:48</td>\n",
              "      <td>04:30:48</td>\n",
              "      <td>04:50:48</td>\n",
              "      <td>05:10:48</td>\n",
              "      <td>05:30:48</td>\n",
              "    </tr>\n",
              "    <tr>\n",
              "      <th>4</th>\n",
              "      <td>2013-01-01</td>\n",
              "      <td>Finglas</td>\n",
              "      <td>Fire DOM PER</td>\n",
              "      <td>2013-01-01 04:14:24</td>\n",
              "      <td>2013-01-01 04:15:36</td>\n",
              "      <td>04:17:37</td>\n",
              "      <td>04:20:47</td>\n",
              "      <td>04:30:47</td>\n",
              "      <td>04:50:47</td>\n",
              "      <td>05:10:47</td>\n",
              "      <td>05:30:47</td>\n",
              "    </tr>\n",
              "  </tbody>\n",
              "</table>\n",
              "</div>"
            ],
            "text/plain": [
              "        Date  Station Area   Description  ...        AH       MAV        CD\n",
              "0 2013-01-01   Rathfarnham     S/S OTHER  ...  02:28:54  02:48:54  03:08:54\n",
              "1 2013-01-01      Tallaght      Fire CAR  ...  02:25:43  02:45:43  03:05:43\n",
              "2 2013-01-01  North Strand       S/S RTA  ...  04:11:20  04:31:20  04:51:20\n",
              "3 2013-01-01      Tallaght      Fire CAR  ...  04:50:48  05:10:48  05:30:48\n",
              "4 2013-01-01       Finglas  Fire DOM PER  ...  04:50:47  05:10:47  05:30:47\n",
              "\n",
              "[5 rows x 11 columns]"
            ]
          },
          "metadata": {
            "tags": []
          },
          "execution_count": 2
        }
      ]
    },
    {
      "cell_type": "markdown",
      "metadata": {
        "id": "wQXhpi5-6tFZ"
      },
      "source": [
        "##Output the total number of rows and columns."
      ]
    },
    {
      "cell_type": "code",
      "metadata": {
        "colab": {
          "base_uri": "https://localhost:8080/"
        },
        "id": "y0DTSAwHMqVU",
        "outputId": "56818ebd-4f31-4ace-f125-32d6305981d0"
      },
      "source": [
        "##Count of Columns and Rows\r\n",
        "No_of_col = df.shape[1]\r\n",
        "No_of_rows = df.shape[0]\r\n",
        "print(f\"Total Number of Columns in the Dataset is {No_of_col}\")\r\n",
        "print(f\"Total Number of Rows in the Dataset is {No_of_rows:,}\")"
      ],
      "execution_count": 3,
      "outputs": [
        {
          "output_type": "stream",
          "text": [
            "Total Number of Columns in the Dataset is 11\n",
            "Total Number of Rows in the Dataset is 38,556\n"
          ],
          "name": "stdout"
        }
      ]
    },
    {
      "cell_type": "markdown",
      "metadata": {
        "id": "YyrSHFFL6zcJ"
      },
      "source": [
        "##Output the number of non-null rows (by column)."
      ]
    },
    {
      "cell_type": "code",
      "metadata": {
        "colab": {
          "base_uri": "https://localhost:8080/"
        },
        "id": "_06GQ09xMs1R",
        "outputId": "bcec626c-58b5-45ac-b691-b3475d3a2a53"
      },
      "source": [
        "##Count of Not null columns\r\n",
        "Non_Null_columns = df.count()\r\n",
        "print(\"Total Number of Non Null Values by Columns in the Dataset\")\r\n",
        "print(Non_Null_columns)"
      ],
      "execution_count": 4,
      "outputs": [
        {
          "output_type": "stream",
          "text": [
            "Total Number of Non Null Values by Columns in the Dataset\n",
            "Date            38556\n",
            "Station Area    38556\n",
            "Description     38556\n",
            "TOC             38556\n",
            "ORD             38556\n",
            "MOB             37311\n",
            "IA              30962\n",
            "LS              38556\n",
            "AH                153\n",
            "MAV             38530\n",
            "CD              38530\n",
            "dtype: int64\n"
          ],
          "name": "stdout"
        }
      ]
    },
    {
      "cell_type": "markdown",
      "metadata": {
        "id": "uIqfWbv3645S"
      },
      "source": [
        "##Output the number of null values (by column)"
      ]
    },
    {
      "cell_type": "code",
      "metadata": {
        "colab": {
          "base_uri": "https://localhost:8080/"
        },
        "id": "tC-5G2dYMx3g",
        "outputId": "9f389782-4de2-4702-e848-6e2c34eb4f54"
      },
      "source": [
        "##Output the number of null values (by column)\r\n",
        "Null_Columns = df.isnull().sum()\r\n",
        "print(\"Total Number of Null Values by Columns in the Dataset\")\r\n",
        "print(Null_Columns)"
      ],
      "execution_count": 5,
      "outputs": [
        {
          "output_type": "stream",
          "text": [
            "Total Number of Null Values by Columns in the Dataset\n",
            "Date                0\n",
            "Station Area        0\n",
            "Description         0\n",
            "TOC                 0\n",
            "ORD                 0\n",
            "MOB              1245\n",
            "IA               7594\n",
            "LS                  0\n",
            "AH              38403\n",
            "MAV                26\n",
            "CD                 26\n",
            "dtype: int64\n"
          ],
          "name": "stdout"
        }
      ]
    },
    {
      "cell_type": "markdown",
      "metadata": {
        "id": "E4t7wswc7IRp"
      },
      "source": [
        "##Output the number of null values for all columns"
      ]
    },
    {
      "cell_type": "code",
      "metadata": {
        "colab": {
          "base_uri": "https://localhost:8080/"
        },
        "id": "wSH9DETcMxtr",
        "outputId": "21690b54-cbee-4912-bf3e-281c47fd621c"
      },
      "source": [
        "#Count of Null columns\r\n",
        "Total_Null_col = df.isnull().sum().sum()\r\n",
        "print(f\"Total Number of Null Values in the Dataset : {Total_Null_col:,}\")"
      ],
      "execution_count": 6,
      "outputs": [
        {
          "output_type": "stream",
          "text": [
            "Total Number of Null Values in the Dataset : 47,294\n"
          ],
          "name": "stdout"
        }
      ]
    },
    {
      "cell_type": "markdown",
      "metadata": {
        "id": "nr8RDgts7xhy"
      },
      "source": [
        "##Output the total number of call outs by Station Area"
      ]
    },
    {
      "cell_type": "code",
      "metadata": {
        "id": "dNSP6IbzMxZ0",
        "colab": {
          "base_uri": "https://localhost:8080/",
          "height": 557
        },
        "outputId": "2a2abded-d127-4475-ea00-6a2ed2a9193f"
      },
      "source": [
        " df.groupby('Station Area').TOC.agg(['count'])\r\n",
        "\r\n",
        " #df.groupby('A').B.agg(['min', 'max'])"
      ],
      "execution_count": 7,
      "outputs": [
        {
          "output_type": "execute_result",
          "data": {
            "text/html": [
              "<div>\n",
              "<style scoped>\n",
              "    .dataframe tbody tr th:only-of-type {\n",
              "        vertical-align: middle;\n",
              "    }\n",
              "\n",
              "    .dataframe tbody tr th {\n",
              "        vertical-align: top;\n",
              "    }\n",
              "\n",
              "    .dataframe thead th {\n",
              "        text-align: right;\n",
              "    }\n",
              "</style>\n",
              "<table border=\"1\" class=\"dataframe\">\n",
              "  <thead>\n",
              "    <tr style=\"text-align: right;\">\n",
              "      <th></th>\n",
              "      <th>count</th>\n",
              "    </tr>\n",
              "    <tr>\n",
              "      <th>Station Area</th>\n",
              "      <th></th>\n",
              "    </tr>\n",
              "  </thead>\n",
              "  <tbody>\n",
              "    <tr>\n",
              "      <th>Balbriggan</th>\n",
              "      <td>688</td>\n",
              "    </tr>\n",
              "    <tr>\n",
              "      <th>Blanchardstown</th>\n",
              "      <td>2089</td>\n",
              "    </tr>\n",
              "    <tr>\n",
              "      <th>Dolphins Barn</th>\n",
              "      <td>4018</td>\n",
              "    </tr>\n",
              "    <tr>\n",
              "      <th>Donnybrook</th>\n",
              "      <td>1787</td>\n",
              "    </tr>\n",
              "    <tr>\n",
              "      <th>Dun Laoghaire</th>\n",
              "      <td>3271</td>\n",
              "    </tr>\n",
              "    <tr>\n",
              "      <th>Dunshaughlin</th>\n",
              "      <td>2</td>\n",
              "    </tr>\n",
              "    <tr>\n",
              "      <th>Finglas</th>\n",
              "      <td>3030</td>\n",
              "    </tr>\n",
              "    <tr>\n",
              "      <th>Kilbarrack</th>\n",
              "      <td>3548</td>\n",
              "    </tr>\n",
              "    <tr>\n",
              "      <th>MH14</th>\n",
              "      <td>1</td>\n",
              "    </tr>\n",
              "    <tr>\n",
              "      <th>North Strand</th>\n",
              "      <td>1645</td>\n",
              "    </tr>\n",
              "    <tr>\n",
              "      <th>Phibsborough</th>\n",
              "      <td>3160</td>\n",
              "    </tr>\n",
              "    <tr>\n",
              "      <th>Rathfarnham</th>\n",
              "      <td>2129</td>\n",
              "    </tr>\n",
              "    <tr>\n",
              "      <th>Skerries</th>\n",
              "      <td>449</td>\n",
              "    </tr>\n",
              "    <tr>\n",
              "      <th>Swords</th>\n",
              "      <td>2614</td>\n",
              "    </tr>\n",
              "    <tr>\n",
              "      <th>Tallaght</th>\n",
              "      <td>6525</td>\n",
              "    </tr>\n",
              "    <tr>\n",
              "      <th>Tara St</th>\n",
              "      <td>3600</td>\n",
              "    </tr>\n",
              "  </tbody>\n",
              "</table>\n",
              "</div>"
            ],
            "text/plain": [
              "                count\n",
              "Station Area         \n",
              "Balbriggan        688\n",
              "Blanchardstown   2089\n",
              "Dolphins Barn    4018\n",
              "Donnybrook       1787\n",
              "Dun Laoghaire    3271\n",
              "Dunshaughlin        2\n",
              "Finglas          3030\n",
              "Kilbarrack       3548\n",
              "MH14                1\n",
              "North Strand     1645\n",
              "Phibsborough     3160\n",
              "Rathfarnham      2129\n",
              "Skerries          449\n",
              "Swords           2614\n",
              "Tallaght         6525\n",
              "Tara St          3600"
            ]
          },
          "metadata": {
            "tags": []
          },
          "execution_count": 7
        }
      ]
    },
    {
      "cell_type": "markdown",
      "metadata": {
        "id": "6XIdKeSTJ9FA"
      },
      "source": [
        "##Output the total number of call outs by Station Area and Date where the description is either Fire Car or Fire Alarm."
      ]
    },
    {
      "cell_type": "code",
      "metadata": {
        "colab": {
          "base_uri": "https://localhost:8080/",
          "height": 436
        },
        "id": "qhd7LesNKEG0",
        "outputId": "6ecf5438-0708-4302-a21d-27ad9964bae5"
      },
      "source": [
        "df.groupby(['Station Area','Date']).TOC.agg(['count'])"
      ],
      "execution_count": 8,
      "outputs": [
        {
          "output_type": "execute_result",
          "data": {
            "text/html": [
              "<div>\n",
              "<style scoped>\n",
              "    .dataframe tbody tr th:only-of-type {\n",
              "        vertical-align: middle;\n",
              "    }\n",
              "\n",
              "    .dataframe tbody tr th {\n",
              "        vertical-align: top;\n",
              "    }\n",
              "\n",
              "    .dataframe thead th {\n",
              "        text-align: right;\n",
              "    }\n",
              "</style>\n",
              "<table border=\"1\" class=\"dataframe\">\n",
              "  <thead>\n",
              "    <tr style=\"text-align: right;\">\n",
              "      <th></th>\n",
              "      <th></th>\n",
              "      <th>count</th>\n",
              "    </tr>\n",
              "    <tr>\n",
              "      <th>Station Area</th>\n",
              "      <th>Date</th>\n",
              "      <th></th>\n",
              "    </tr>\n",
              "  </thead>\n",
              "  <tbody>\n",
              "    <tr>\n",
              "      <th rowspan=\"5\" valign=\"top\">Balbriggan</th>\n",
              "      <th>2013-01-01</th>\n",
              "      <td>3</td>\n",
              "    </tr>\n",
              "    <tr>\n",
              "      <th>2013-01-03</th>\n",
              "      <td>1</td>\n",
              "    </tr>\n",
              "    <tr>\n",
              "      <th>2013-01-04</th>\n",
              "      <td>1</td>\n",
              "    </tr>\n",
              "    <tr>\n",
              "      <th>2013-01-05</th>\n",
              "      <td>1</td>\n",
              "    </tr>\n",
              "    <tr>\n",
              "      <th>2013-01-07</th>\n",
              "      <td>2</td>\n",
              "    </tr>\n",
              "    <tr>\n",
              "      <th>...</th>\n",
              "      <th>...</th>\n",
              "      <td>...</td>\n",
              "    </tr>\n",
              "    <tr>\n",
              "      <th rowspan=\"5\" valign=\"top\">Tara St</th>\n",
              "      <th>2015-12-26</th>\n",
              "      <td>7</td>\n",
              "    </tr>\n",
              "    <tr>\n",
              "      <th>2015-12-27</th>\n",
              "      <td>3</td>\n",
              "    </tr>\n",
              "    <tr>\n",
              "      <th>2015-12-29</th>\n",
              "      <td>2</td>\n",
              "    </tr>\n",
              "    <tr>\n",
              "      <th>2015-12-30</th>\n",
              "      <td>1</td>\n",
              "    </tr>\n",
              "    <tr>\n",
              "      <th>2016-08-16</th>\n",
              "      <td>1</td>\n",
              "    </tr>\n",
              "  </tbody>\n",
              "</table>\n",
              "<p>12483 rows × 1 columns</p>\n",
              "</div>"
            ],
            "text/plain": [
              "                         count\n",
              "Station Area Date             \n",
              "Balbriggan   2013-01-01      3\n",
              "             2013-01-03      1\n",
              "             2013-01-04      1\n",
              "             2013-01-05      1\n",
              "             2013-01-07      2\n",
              "...                        ...\n",
              "Tara St      2015-12-26      7\n",
              "             2015-12-27      3\n",
              "             2015-12-29      2\n",
              "             2015-12-30      1\n",
              "             2016-08-16      1\n",
              "\n",
              "[12483 rows x 1 columns]"
            ]
          },
          "metadata": {
            "tags": []
          },
          "execution_count": 8
        }
      ]
    },
    {
      "cell_type": "markdown",
      "metadata": {
        "id": "bsTDo1-rNAyQ"
      },
      "source": [
        "##Output the total number of call outs by Station Area and Date where the description is either Fire Car or Fire Alarm."
      ]
    },
    {
      "cell_type": "code",
      "metadata": {
        "colab": {
          "base_uri": "https://localhost:8080/",
          "height": 436
        },
        "id": "FrZDXc5ONE0x",
        "outputId": "a42b1ac0-7fe8-4891-fe31-e209e51e3b84"
      },
      "source": [
        "df[(df.Description == 'Fire CAR') | (df.Description == 'Fire ALARM')].groupby(['Station Area','Date']).TOC.agg(['count'])"
      ],
      "execution_count": 9,
      "outputs": [
        {
          "output_type": "execute_result",
          "data": {
            "text/html": [
              "<div>\n",
              "<style scoped>\n",
              "    .dataframe tbody tr th:only-of-type {\n",
              "        vertical-align: middle;\n",
              "    }\n",
              "\n",
              "    .dataframe tbody tr th {\n",
              "        vertical-align: top;\n",
              "    }\n",
              "\n",
              "    .dataframe thead th {\n",
              "        text-align: right;\n",
              "    }\n",
              "</style>\n",
              "<table border=\"1\" class=\"dataframe\">\n",
              "  <thead>\n",
              "    <tr style=\"text-align: right;\">\n",
              "      <th></th>\n",
              "      <th></th>\n",
              "      <th>count</th>\n",
              "    </tr>\n",
              "    <tr>\n",
              "      <th>Station Area</th>\n",
              "      <th>Date</th>\n",
              "      <th></th>\n",
              "    </tr>\n",
              "  </thead>\n",
              "  <tbody>\n",
              "    <tr>\n",
              "      <th rowspan=\"5\" valign=\"top\">Balbriggan</th>\n",
              "      <th>2013-01-01</th>\n",
              "      <td>3</td>\n",
              "    </tr>\n",
              "    <tr>\n",
              "      <th>2013-01-04</th>\n",
              "      <td>1</td>\n",
              "    </tr>\n",
              "    <tr>\n",
              "      <th>2013-01-05</th>\n",
              "      <td>1</td>\n",
              "    </tr>\n",
              "    <tr>\n",
              "      <th>2013-01-20</th>\n",
              "      <td>1</td>\n",
              "    </tr>\n",
              "    <tr>\n",
              "      <th>2013-01-24</th>\n",
              "      <td>1</td>\n",
              "    </tr>\n",
              "    <tr>\n",
              "      <th>...</th>\n",
              "      <th>...</th>\n",
              "      <td>...</td>\n",
              "    </tr>\n",
              "    <tr>\n",
              "      <th rowspan=\"5\" valign=\"top\">Tara St</th>\n",
              "      <th>2015-12-21</th>\n",
              "      <td>1</td>\n",
              "    </tr>\n",
              "    <tr>\n",
              "      <th>2015-12-25</th>\n",
              "      <td>4</td>\n",
              "    </tr>\n",
              "    <tr>\n",
              "      <th>2015-12-26</th>\n",
              "      <td>6</td>\n",
              "    </tr>\n",
              "    <tr>\n",
              "      <th>2015-12-29</th>\n",
              "      <td>1</td>\n",
              "    </tr>\n",
              "    <tr>\n",
              "      <th>2015-12-30</th>\n",
              "      <td>1</td>\n",
              "    </tr>\n",
              "  </tbody>\n",
              "</table>\n",
              "<p>6792 rows × 1 columns</p>\n",
              "</div>"
            ],
            "text/plain": [
              "                         count\n",
              "Station Area Date             \n",
              "Balbriggan   2013-01-01      3\n",
              "             2013-01-04      1\n",
              "             2013-01-05      1\n",
              "             2013-01-20      1\n",
              "             2013-01-24      1\n",
              "...                        ...\n",
              "Tara St      2015-12-21      1\n",
              "             2015-12-25      4\n",
              "             2015-12-26      6\n",
              "             2015-12-29      1\n",
              "             2015-12-30      1\n",
              "\n",
              "[6792 rows x 1 columns]"
            ]
          },
          "metadata": {
            "tags": []
          },
          "execution_count": 9
        }
      ]
    },
    {
      "cell_type": "markdown",
      "metadata": {
        "id": "2n19zrRW_nnJ"
      },
      "source": [
        "##Replace any instance of “,” (in any column) with an empty string."
      ]
    },
    {
      "cell_type": "code",
      "metadata": {
        "colab": {
          "base_uri": "https://localhost:8080/"
        },
        "id": "pJ_Qsgn__oM5",
        "outputId": "2e062d12-eddd-4fbd-c8c8-6506f8004fee"
      },
      "source": [
        "#Checking if the Value \",\" exists in the Dataset\r\n",
        "exists = ',' in df.values\r\n",
        "print(exists)"
      ],
      "execution_count": 10,
      "outputs": [
        {
          "output_type": "stream",
          "text": [
            "True\n"
          ],
          "name": "stdout"
        }
      ]
    },
    {
      "cell_type": "code",
      "metadata": {
        "id": "sFpPIyTDCYiT"
      },
      "source": [
        "#Replacing the \",\" with an empty String\r\n",
        "df = df.replace([','],'')"
      ],
      "execution_count": 11,
      "outputs": []
    },
    {
      "cell_type": "code",
      "metadata": {
        "colab": {
          "base_uri": "https://localhost:8080/"
        },
        "id": "8zamGQEwCZmf",
        "outputId": "890d4b0a-86fb-4cc7-c512-cd90275d8d31"
      },
      "source": [
        "#Confirming the Replacement Worked\r\n",
        "exists = ',' in df.values\r\n",
        "print(exists)"
      ],
      "execution_count": 12,
      "outputs": [
        {
          "output_type": "stream",
          "text": [
            "False\n"
          ],
          "name": "stdout"
        }
      ]
    },
    {
      "cell_type": "markdown",
      "metadata": {
        "id": "U0frT-xEDFk_"
      },
      "source": [
        "##Replace any instance of “-” (in any column) with an empty string."
      ]
    },
    {
      "cell_type": "code",
      "metadata": {
        "colab": {
          "base_uri": "https://localhost:8080/"
        },
        "id": "T9IlYq-0DSXq",
        "outputId": "9a51ab61-68a9-4310-e828-baf92a40bfcf"
      },
      "source": [
        "#Checking if the Value \"-\" exists in the Dataset\r\n",
        "exists = '-' in df.values\r\n",
        "print(exists)"
      ],
      "execution_count": 13,
      "outputs": [
        {
          "output_type": "stream",
          "text": [
            "True\n"
          ],
          "name": "stdout"
        }
      ]
    },
    {
      "cell_type": "code",
      "metadata": {
        "id": "Pdav45MDDSXx"
      },
      "source": [
        "#Replacing the \"-\" with an empty String\r\n",
        "df = df.replace(['-'],'')"
      ],
      "execution_count": 14,
      "outputs": []
    },
    {
      "cell_type": "code",
      "metadata": {
        "colab": {
          "base_uri": "https://localhost:8080/"
        },
        "id": "XKnBTF88DSXy",
        "outputId": "efba141f-a6bd-420d-f2ac-530b4a3f763a"
      },
      "source": [
        "#Confirming the Replacement Worked\r\n",
        "exists = '-' in df.values\r\n",
        "print(exists)"
      ],
      "execution_count": 15,
      "outputs": [
        {
          "output_type": "stream",
          "text": [
            "False\n"
          ],
          "name": "stdout"
        }
      ]
    },
    {
      "cell_type": "markdown",
      "metadata": {
        "id": "5mTqrepZDemQ"
      },
      "source": [
        "##Drop rows for the columns (AH, MAV, CD) where at least one row value is NULL"
      ]
    },
    {
      "cell_type": "code",
      "metadata": {
        "colab": {
          "base_uri": "https://localhost:8080/"
        },
        "id": "YI7xfWfPI4I3",
        "outputId": "d726a50e-47c7-4444-9b9c-bfbf0e5a8c21"
      },
      "source": [
        "#Drop Na Values as seen above\r\n",
        "#Null Values for the columns are AH = 38,403 MAV = 26 CD = 26\r\n",
        "No_of_rows = df.shape[0]\r\n",
        "print(f\"Total Number of Rows in the Dataset before Null rows are removed are removed {No_of_rows}\")\r\n",
        "\r\n",
        "df = df.dropna(subset=['AH', 'MAV','CD'])\r\n",
        "\r\n",
        "print(\"Null Rows Removed\")\r\n",
        "\r\n",
        "No_of_rows = df.shape[0]\r\n",
        "print(f\"Total Number of Rows in the Dataset After Null rows are removed {No_of_rows}\")"
      ],
      "execution_count": 16,
      "outputs": [
        {
          "output_type": "stream",
          "text": [
            "Total Number of Rows in the Dataset before Null rows are removed are removed 38556\n",
            "Null Rows Removed\n",
            "Total Number of Rows in the Dataset After Null rows are removed 153\n"
          ],
          "name": "stdout"
        }
      ]
    },
    {
      "cell_type": "markdown",
      "metadata": {
        "id": "g60zUPD-7K6b"
      },
      "source": [
        "##Drop any duplicate rows (except for the first occurrence)."
      ]
    },
    {
      "cell_type": "code",
      "metadata": {
        "colab": {
          "base_uri": "https://localhost:8080/"
        },
        "id": "BQ_cYTcc9UsL",
        "outputId": "c63ac65b-74c5-40b0-8a57-488c888bd53d"
      },
      "source": [
        "#Column Count After removing Nulls\r\n",
        "##Count of Rows\r\n",
        "No_of_rows = df.shape[0]\r\n",
        "print(f\"Total Number of Rows in the Dataset before Duplicates are removed {No_of_rows}\")\r\n",
        "\r\n",
        "df = df.drop_duplicates(keep='first')\r\n",
        "print(\"Duplcates removed\")\r\n",
        "No_of_rows = df.shape[0]\r\n",
        "print(f\"Total Number of Rows in the Dataset After Duplicates are removed {No_of_rows}\")"
      ],
      "execution_count": 17,
      "outputs": [
        {
          "output_type": "stream",
          "text": [
            "Total Number of Rows in the Dataset before Duplicates are removed 153\n",
            "Duplcates removed\n",
            "Total Number of Rows in the Dataset After Duplicates are removed 152\n"
          ],
          "name": "stdout"
        }
      ]
    },
    {
      "cell_type": "markdown",
      "metadata": {
        "id": "ZJ8RzfdUjszh"
      },
      "source": [
        "##Output the minimum time difference between TOC and ORD."
      ]
    },
    {
      "cell_type": "code",
      "metadata": {
        "colab": {
          "base_uri": "https://localhost:8080/"
        },
        "id": "yfYu2T8slnsp",
        "outputId": "2d66b114-f2c3-4f53-9670-258a8b6f3637"
      },
      "source": [
        "##Add new Column that shows the time difference between TOC and ORD\r\n",
        "df[\"Diff_ORD_TOC\"] = (df['ORD'] -df['TOC'])\r\n",
        "\r\n",
        "##Get the Minimum time difference\r\n",
        "Min_TOC_ORD = min(df[\"Diff_ORD_TOC\"]).seconds\r\n",
        "print(f\"The Minimum time diffrence between time the call is received in the control centre and time the vehicle is mobilised to the incident by a control operator is : {Min_TOC_ORD} seconds\")"
      ],
      "execution_count": 18,
      "outputs": [
        {
          "output_type": "stream",
          "text": [
            "The Minimum time diffrence between time the call is received in the control centre and time the vehicle is mobilised to the incident by a control operator is : 30 seconds\n"
          ],
          "name": "stdout"
        }
      ]
    },
    {
      "cell_type": "markdown",
      "metadata": {
        "id": "8Na08UfNAhv6"
      },
      "source": [
        "##Export"
      ]
    },
    {
      "cell_type": "code",
      "metadata": {
        "id": "ryfnkMC2a_I-",
        "colab": {
          "base_uri": "https://localhost:8080/"
        },
        "outputId": "a2616d69-a0b5-472b-d62d-4a4e3982c911"
      },
      "source": [
        "%%sh\r\n",
        "curl https://packages.microsoft.com/keys/microsoft.asc | apt-key add -\r\n",
        "curl https://packages.microsoft.com/config/ubuntu/16.04/prod.list > /etc/apt/sources.list.d/mssql-release.list\r\n",
        "sudo apt-get update\r\n",
        "sudo ACCEPT_EULA=Y apt-get -q -y install msodbcsql17"
      ],
      "execution_count": 19,
      "outputs": [
        {
          "output_type": "stream",
          "text": [
            "OK\n",
            "Get:1 https://packages.microsoft.com/ubuntu/16.04/prod xenial InRelease [4,003 B]\n",
            "Get:2 https://cloud.r-project.org/bin/linux/ubuntu bionic-cran40/ InRelease [3,626 B]\n",
            "Ign:3 https://developer.download.nvidia.com/compute/cuda/repos/ubuntu1804/x86_64  InRelease\n",
            "Get:4 http://ppa.launchpad.net/c2d4u.team/c2d4u4.0+/ubuntu bionic InRelease [15.9 kB]\n",
            "Get:5 http://security.ubuntu.com/ubuntu bionic-security InRelease [88.7 kB]\n",
            "Ign:6 https://developer.download.nvidia.com/compute/machine-learning/repos/ubuntu1804/x86_64  InRelease\n",
            "Hit:7 https://developer.download.nvidia.com/compute/cuda/repos/ubuntu1804/x86_64  Release\n",
            "Get:8 https://packages.microsoft.com/ubuntu/16.04/prod xenial/main amd64 Packages [198 kB]\n",
            "Get:9 https://developer.download.nvidia.com/compute/machine-learning/repos/ubuntu1804/x86_64  Release [564 B]\n",
            "Hit:10 http://archive.ubuntu.com/ubuntu bionic InRelease\n",
            "Get:11 https://developer.download.nvidia.com/compute/machine-learning/repos/ubuntu1804/x86_64  Release.gpg [833 B]\n",
            "Get:12 http://archive.ubuntu.com/ubuntu bionic-updates InRelease [88.7 kB]\n",
            "Get:13 https://cloud.r-project.org/bin/linux/ubuntu bionic-cran40/ Packages [43.6 kB]\n",
            "Hit:15 http://ppa.launchpad.net/cran/libgit2/ubuntu bionic InRelease\n",
            "Get:16 http://ppa.launchpad.net/graphics-drivers/ppa/ubuntu bionic InRelease [21.3 kB]\n",
            "Get:17 http://archive.ubuntu.com/ubuntu bionic-backports InRelease [74.6 kB]\n",
            "Get:18 https://developer.download.nvidia.com/compute/machine-learning/repos/ubuntu1804/x86_64  Packages [66.5 kB]\n",
            "Get:19 http://ppa.launchpad.net/c2d4u.team/c2d4u4.0+/ubuntu bionic/main Sources [1,708 kB]\n",
            "Get:20 http://security.ubuntu.com/ubuntu bionic-security/main amd64 Packages [1,881 kB]\n",
            "Get:21 http://archive.ubuntu.com/ubuntu bionic-updates/multiverse amd64 Packages [45.6 kB]\n",
            "Get:22 http://archive.ubuntu.com/ubuntu bionic-updates/main amd64 Packages [2,307 kB]\n",
            "Get:23 http://security.ubuntu.com/ubuntu bionic-security/universe amd64 Packages [1,376 kB]\n",
            "Get:24 http://security.ubuntu.com/ubuntu bionic-security/restricted amd64 Packages [284 kB]\n",
            "Get:25 http://archive.ubuntu.com/ubuntu bionic-updates/restricted amd64 Packages [309 kB]\n",
            "Get:26 http://archive.ubuntu.com/ubuntu bionic-updates/universe amd64 Packages [2,140 kB]\n",
            "Get:27 http://ppa.launchpad.net/c2d4u.team/c2d4u4.0+/ubuntu bionic/main amd64 Packages [875 kB]\n",
            "Get:28 http://ppa.launchpad.net/graphics-drivers/ppa/ubuntu bionic/main amd64 Packages [49.2 kB]\n",
            "Fetched 11.6 MB in 3s (4,563 kB/s)\n",
            "Reading package lists...\n",
            "Reading package lists...\n",
            "Building dependency tree...\n",
            "Reading state information...\n",
            "The following additional packages will be installed:\n",
            "  libodbc1 odbcinst odbcinst1debian2 unixodbc\n",
            "Suggested packages:\n",
            "  unixodbc-bin\n",
            "The following NEW packages will be installed:\n",
            "  msodbcsql17 unixodbc\n",
            "The following packages will be upgraded:\n",
            "  libodbc1 odbcinst odbcinst1debian2\n",
            "3 upgraded, 2 newly installed, 0 to remove and 46 not upgraded.\n",
            "Need to get 1,420 kB of archives.\n",
            "After this operation, 191 kB of additional disk space will be used.\n",
            "Get:1 https://packages.microsoft.com/ubuntu/16.04/prod xenial/main amd64 libodbc1 amd64 2.3.7 [511 kB]\n",
            "Get:2 https://packages.microsoft.com/ubuntu/16.04/prod xenial/main amd64 odbcinst amd64 2.3.7 [12.0 kB]\n",
            "Get:3 https://packages.microsoft.com/ubuntu/16.04/prod xenial/main amd64 odbcinst1debian2 amd64 2.3.7 [135 kB]\n",
            "Get:4 https://packages.microsoft.com/ubuntu/16.04/prod xenial/main amd64 unixodbc amd64 2.3.7 [19.6 kB]\n",
            "Get:5 https://packages.microsoft.com/ubuntu/16.04/prod xenial/main amd64 msodbcsql17 amd64 17.6.1.1-1 [743 kB]\n",
            "Fetched 1,420 kB in 0s (6,996 kB/s)\n",
            "(Reading database ... \r(Reading database ... 5%\r(Reading database ... 10%\r(Reading database ... 15%\r(Reading database ... 20%\r(Reading database ... 25%\r(Reading database ... 30%\r(Reading database ... 35%\r(Reading database ... 40%\r(Reading database ... 45%\r(Reading database ... 50%\r(Reading database ... 55%\r(Reading database ... 60%\r(Reading database ... 65%\r(Reading database ... 70%\r(Reading database ... 75%\r(Reading database ... 80%\r(Reading database ... 85%\r(Reading database ... 90%\r(Reading database ... 95%\r(Reading database ... 100%\r(Reading database ... 145483 files and directories currently installed.)\r\n",
            "Preparing to unpack .../libodbc1_2.3.7_amd64.deb ...\r\n",
            "Unpacking libodbc1:amd64 (2.3.7) over (2.3.4-1.1ubuntu3) ...\r\n",
            "Preparing to unpack .../odbcinst_2.3.7_amd64.deb ...\r\n",
            "Unpacking odbcinst (2.3.7) over (2.3.4-1.1ubuntu3) ...\r\n",
            "Preparing to unpack .../odbcinst1debian2_2.3.7_amd64.deb ...\r\n",
            "Unpacking odbcinst1debian2:amd64 (2.3.7) over (2.3.4-1.1ubuntu3) ...\r\n",
            "Selecting previously unselected package unixodbc.\r\n",
            "Preparing to unpack .../unixodbc_2.3.7_amd64.deb ...\r\n",
            "Unpacking unixodbc (2.3.7) ...\r\n",
            "Selecting previously unselected package msodbcsql17.\r\n",
            "Preparing to unpack .../msodbcsql17_17.6.1.1-1_amd64.deb ...\r\n",
            "debconf: unable to initialize frontend: Dialog\r\n",
            "debconf: (No usable dialog-like program is installed, so the dialog based frontend cannot be used. at /usr/share/perl5/Debconf/FrontEnd/Dialog.pm line 76.)\r\n",
            "debconf: falling back to frontend: Readline\r\n",
            "Unpacking msodbcsql17 (17.6.1.1-1) ...\r\n",
            "Setting up libodbc1:amd64 (2.3.7) ...\r\n",
            "Setting up odbcinst1debian2:amd64 (2.3.7) ...\r\n",
            "Setting up odbcinst (2.3.7) ...\r\n",
            "Setting up unixodbc (2.3.7) ...\r\n",
            "Setting up msodbcsql17 (17.6.1.1-1) ...\r\n",
            "Processing triggers for libc-bin (2.27-3ubuntu1.2) ...\r\n",
            "/sbin/ldconfig.real: /usr/local/lib/python3.6/dist-packages/ideep4py/lib/libmkldnn.so.0 is not a symbolic link\r\n",
            "\r\n",
            "Processing triggers for man-db (2.8.3-2ubuntu0.1) ...\r\n"
          ],
          "name": "stdout"
        },
        {
          "output_type": "stream",
          "text": [
            "  % Total    % Received % Xferd  Average Speed   Time    Time     Time  Current\n",
            "                                 Dload  Upload   Total   Spent    Left  Speed\n",
            "\r  0     0    0     0    0     0      0      0 --:--:-- --:--:-- --:--:--     0\r100   983  100   983    0     0   7227      0 --:--:-- --:--:-- --:--:--  7227\n",
            "Warning: apt-key output should not be parsed (stdout is not a terminal)\n",
            "  % Total    % Received % Xferd  Average Speed   Time    Time     Time  Current\n",
            "                                 Dload  Upload   Total   Spent    Left  Speed\n",
            "\r  0     0    0     0    0     0      0      0 --:--:-- --:--:-- --:--:--     0\r100    79  100    79    0     0   1097      0 --:--:-- --:--:-- --:--:--  1097\n",
            "debconf: unable to initialize frontend: Dialog\n",
            "debconf: (No usable dialog-like program is installed, so the dialog based frontend cannot be used. at /usr/share/perl5/Debconf/FrontEnd/Dialog.pm line 76, <> line 5.)\n",
            "debconf: falling back to frontend: Readline\n",
            "debconf: unable to initialize frontend: Readline\n",
            "debconf: (This frontend requires a controlling tty.)\n",
            "debconf: falling back to frontend: Teletype\n",
            "dpkg-preconfigure: unable to re-open stdin: \n"
          ],
          "name": "stderr"
        }
      ]
    },
    {
      "cell_type": "code",
      "metadata": {
        "colab": {
          "base_uri": "https://localhost:8080/",
          "height": 197
        },
        "id": "AXF_L6v7KvZm",
        "outputId": "9d664b89-bfcb-43eb-c73f-c1be5be8fef2"
      },
      "source": [
        "#Preparing the columns for upload into an SQL database\r\n",
        "df['MOB'] = pd.to_datetime(adf + ' ' + df['MOB'])\r\n",
        "df['IA'] = pd.to_datetime(adf + ' ' + df['IA'])\r\n",
        "df['LS'] = pd.to_datetime(adf + ' ' + df['LS'])\r\n",
        "df['AH'] = pd.to_datetime(adf + ' ' + df['AH'])\r\n",
        "df['MAV'] = pd.to_datetime(adf + ' ' + df['MAV'])\r\n",
        "df['CD'] = pd.to_datetime(adf + ' ' + df['CD'])\r\n",
        "df=df.rename(columns = {'Station Area':'Station_Area'})\r\n",
        "df.head()"
      ],
      "execution_count": 20,
      "outputs": [
        {
          "output_type": "execute_result",
          "data": {
            "text/html": [
              "<div>\n",
              "<style scoped>\n",
              "    .dataframe tbody tr th:only-of-type {\n",
              "        vertical-align: middle;\n",
              "    }\n",
              "\n",
              "    .dataframe tbody tr th {\n",
              "        vertical-align: top;\n",
              "    }\n",
              "\n",
              "    .dataframe thead th {\n",
              "        text-align: right;\n",
              "    }\n",
              "</style>\n",
              "<table border=\"1\" class=\"dataframe\">\n",
              "  <thead>\n",
              "    <tr style=\"text-align: right;\">\n",
              "      <th></th>\n",
              "      <th>Date</th>\n",
              "      <th>Station_Area</th>\n",
              "      <th>Description</th>\n",
              "      <th>TOC</th>\n",
              "      <th>ORD</th>\n",
              "      <th>MOB</th>\n",
              "      <th>IA</th>\n",
              "      <th>LS</th>\n",
              "      <th>AH</th>\n",
              "      <th>MAV</th>\n",
              "      <th>CD</th>\n",
              "      <th>Diff_ORD_TOC</th>\n",
              "    </tr>\n",
              "  </thead>\n",
              "  <tbody>\n",
              "    <tr>\n",
              "      <th>0</th>\n",
              "      <td>2013-01-01</td>\n",
              "      <td>Rathfarnham</td>\n",
              "      <td>S/S OTHER</td>\n",
              "      <td>2013-01-01 01:27:19</td>\n",
              "      <td>2013-01-01 01:28:58</td>\n",
              "      <td>2013-01-01 01:30:47</td>\n",
              "      <td>2013-01-01 01:58:54</td>\n",
              "      <td>2013-01-01 02:08:54</td>\n",
              "      <td>2013-01-01 02:28:54</td>\n",
              "      <td>2013-01-01 02:48:54</td>\n",
              "      <td>2013-01-01 03:08:54</td>\n",
              "      <td>0 days 00:01:39</td>\n",
              "    </tr>\n",
              "    <tr>\n",
              "      <th>1</th>\n",
              "      <td>2013-01-01</td>\n",
              "      <td>Tallaght</td>\n",
              "      <td>Fire CAR</td>\n",
              "      <td>2013-01-01 01:49:57</td>\n",
              "      <td>2013-01-01 01:50:40</td>\n",
              "      <td>2013-01-01 01:51:47</td>\n",
              "      <td>2013-01-01 01:55:43</td>\n",
              "      <td>2013-01-01 02:05:43</td>\n",
              "      <td>2013-01-01 02:25:43</td>\n",
              "      <td>2013-01-01 02:45:43</td>\n",
              "      <td>2013-01-01 03:05:43</td>\n",
              "      <td>0 days 00:00:43</td>\n",
              "    </tr>\n",
              "    <tr>\n",
              "      <th>2</th>\n",
              "      <td>2013-01-01</td>\n",
              "      <td>North Strand</td>\n",
              "      <td>S/S RTA</td>\n",
              "      <td>2013-01-01 03:35:24</td>\n",
              "      <td>2013-01-01 03:36:14</td>\n",
              "      <td>2013-01-01 03:38:28</td>\n",
              "      <td>2013-01-01 03:41:20</td>\n",
              "      <td>2013-01-01 03:51:20</td>\n",
              "      <td>2013-01-01 04:11:20</td>\n",
              "      <td>2013-01-01 04:31:20</td>\n",
              "      <td>2013-01-01 04:51:20</td>\n",
              "      <td>0 days 00:00:50</td>\n",
              "    </tr>\n",
              "    <tr>\n",
              "      <th>3</th>\n",
              "      <td>2013-01-01</td>\n",
              "      <td>Tallaght</td>\n",
              "      <td>Fire CAR</td>\n",
              "      <td>2013-01-01 04:12:51</td>\n",
              "      <td>2013-01-01 04:13:56</td>\n",
              "      <td>2013-01-01 04:14:32</td>\n",
              "      <td>2013-01-01 04:20:48</td>\n",
              "      <td>2013-01-01 04:30:48</td>\n",
              "      <td>2013-01-01 04:50:48</td>\n",
              "      <td>2013-01-01 05:10:48</td>\n",
              "      <td>2013-01-01 05:30:48</td>\n",
              "      <td>0 days 00:01:05</td>\n",
              "    </tr>\n",
              "    <tr>\n",
              "      <th>4</th>\n",
              "      <td>2013-01-01</td>\n",
              "      <td>Finglas</td>\n",
              "      <td>Fire DOM PER</td>\n",
              "      <td>2013-01-01 04:14:24</td>\n",
              "      <td>2013-01-01 04:15:36</td>\n",
              "      <td>2013-01-01 04:17:37</td>\n",
              "      <td>2013-01-01 04:20:47</td>\n",
              "      <td>2013-01-01 04:30:47</td>\n",
              "      <td>2013-01-01 04:50:47</td>\n",
              "      <td>2013-01-01 05:10:47</td>\n",
              "      <td>2013-01-01 05:30:47</td>\n",
              "      <td>0 days 00:01:12</td>\n",
              "    </tr>\n",
              "  </tbody>\n",
              "</table>\n",
              "</div>"
            ],
            "text/plain": [
              "        Date  Station_Area  ...                  CD    Diff_ORD_TOC\n",
              "0 2013-01-01   Rathfarnham  ... 2013-01-01 03:08:54 0 days 00:01:39\n",
              "1 2013-01-01      Tallaght  ... 2013-01-01 03:05:43 0 days 00:00:43\n",
              "2 2013-01-01  North Strand  ... 2013-01-01 04:51:20 0 days 00:00:50\n",
              "3 2013-01-01      Tallaght  ... 2013-01-01 05:30:48 0 days 00:01:05\n",
              "4 2013-01-01       Finglas  ... 2013-01-01 05:30:47 0 days 00:01:12\n",
              "\n",
              "[5 rows x 12 columns]"
            ]
          },
          "metadata": {
            "tags": []
          },
          "execution_count": 20
        }
      ]
    },
    {
      "cell_type": "code",
      "metadata": {
        "colab": {
          "base_uri": "https://localhost:8080/"
        },
        "id": "Y3z0NfMrBdMa",
        "outputId": "bc157da7-602d-4a2b-a6c4-f33d856ecdcc"
      },
      "source": [
        "!apt install unixodbc-dev\r\n",
        "!pip install pyodbc\r\n",
        "import pyodbc\r\n",
        "import getpass\r\n",
        "server = 'sos.database.windows.net'\r\n",
        "database = 'Assessments'\r\n",
        "username = input('Username : ')\r\n",
        "password = getpass.getpass('Password :: ') \r\n",
        "driver= '{ODBC Driver 17 for SQL Server}'\r\n",
        "\r\n",
        "with pyodbc.connect('DRIVER='+driver+';SERVER='+server+';PORT=1433;DATABASE='+database+';UID='+username+';PWD='+ password) as conn:\r\n",
        "  with conn.cursor() as cursor:\r\n",
        "    for index, row in df.iterrows():\r\n",
        "      cursor.execute(\"INSERT INTO dbo.CallOuts(Date,Station_Area,Description,TOC,ORD,MOB,IA,LS,AH,MAV,CD) values(?,?,?,?,?,?,?,?,?,?,?)\",row.Date, row.Station_Area, row.Description,row.TOC,row.ORD,row.MOB,row.IA,row.LS,row.AH,row.MAV,row.CD)\r\n",
        "conn.commit()\r\n",
        "cursor.close()\r\n",
        "print(\"Data Uploaded to table on SQL server successfully\")"
      ],
      "execution_count": 21,
      "outputs": [
        {
          "output_type": "stream",
          "text": [
            "Reading package lists... Done\n",
            "Building dependency tree       \n",
            "Reading state information... Done\n",
            "The following NEW packages will be installed:\n",
            "  unixodbc-dev\n",
            "0 upgraded, 1 newly installed, 0 to remove and 46 not upgraded.\n",
            "Need to get 37.1 kB of archives.\n",
            "After this operation, 1,739 kB of additional disk space will be used.\n",
            "Get:1 https://packages.microsoft.com/ubuntu/16.04/prod xenial/main amd64 unixodbc-dev amd64 2.3.7 [37.1 kB]\n",
            "Fetched 37.1 kB in 0s (293 kB/s)\n",
            "Selecting previously unselected package unixodbc-dev.\n",
            "(Reading database ... 145477 files and directories currently installed.)\n",
            "Preparing to unpack .../unixodbc-dev_2.3.7_amd64.deb ...\n",
            "Unpacking unixodbc-dev (2.3.7) ...\n",
            "Setting up unixodbc-dev (2.3.7) ...\n",
            "Collecting pyodbc\n",
            "\u001b[?25l  Downloading https://files.pythonhosted.org/packages/81/0d/bb08bb16c97765244791c73e49de9fd4c24bb3ef00313aed82e5640dee5d/pyodbc-4.0.30.tar.gz (266kB)\n",
            "\u001b[K     |████████████████████████████████| 276kB 4.2MB/s \n",
            "\u001b[?25hBuilding wheels for collected packages: pyodbc\n",
            "  Building wheel for pyodbc (setup.py) ... \u001b[?25l\u001b[?25hdone\n",
            "  Created wheel for pyodbc: filename=pyodbc-4.0.30-cp36-cp36m-linux_x86_64.whl size=272704 sha256=694b901222ee185bf784e4bc2f0f58bc5efa3af2d535862bfdd64f9c8fdc4266\n",
            "  Stored in directory: /root/.cache/pip/wheels/4a/02/ba/6b495fec7cb127583a769a74f3ba91eb700d73e25fbb5ba09b\n",
            "Successfully built pyodbc\n",
            "Installing collected packages: pyodbc\n",
            "Successfully installed pyodbc-4.0.30\n",
            "Username : Samuel\n",
            "Password :: ··········\n",
            "Data Uploaded to table on SQL server successfully\n"
          ],
          "name": "stdout"
        }
      ]
    }
  ]
}