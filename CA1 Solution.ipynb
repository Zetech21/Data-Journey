{
  "nbformat": 4,
  "nbformat_minor": 0,
  "metadata": {
    "colab": {
      "name": "CA1_ABHISHEK.ipynb",
      "provenance": [],
      "collapsed_sections": [
        "j6PalggJCiKP",
        "zieIxB3_CoFT",
        "IixCZUoKC1XH",
        "qUEmSx7_C-SB"
      ],
      "authorship_tag": "ABX9TyMtaMTLZjLTfEME0SQfcjUS"
    },
    "kernelspec": {
      "name": "python3",
      "display_name": "Python 3"
    }
  },
  "cells": [
    {
      "cell_type": "markdown",
      "metadata": {
        "id": "j6PalggJCiKP"
      },
      "source": [
        "#Write a program in Python to prompt the user to input their name, employee number, week ending date, hours worked, rate per hour, standard and overtime tax percentage rate. Use the data input to calculate gross pay, tax deductions and net pay. Output the results as a formatted payslip. Assume that a standard working week is 37.5 hours."
      ]
    },
    {
      "cell_type": "code",
      "metadata": {
        "id": "j3h7EwaVY0bm"
      },
      "source": [
        "def calculates_payslip():\r\n",
        "  ####Importing the tabulate library to get the resukts in a table\r\n",
        "  from tabulate import tabulate\r\n",
        "  ### Inputing Variables to get details of employee\r\n",
        "  print('Enter Your name')\r\n",
        "  Name = input()\r\n",
        "  print('Kindly input the week ending date in this format dd/mm/yyyy')\r\n",
        "  Week_end = input()\r\n",
        "  print('Enter Your Employee Num ')\r\n",
        "  Emp_num = input()\r\n",
        "  print('Enter The number of hours worked')\r\n",
        "  Hours = float(input())\r\n",
        "  print('Enter rate per hour:')\r\n",
        "  rate_hr = float(input())\r\n",
        "  over_rate_hr = rate_hr*1.5\r\n",
        "  print('Enter Standard tax rate')\r\n",
        "  Stan_tax_rate = float(input())\r\n",
        "  print('Enter Overtime tax rate')\r\n",
        "  overtime_tax_rate = float(input())\r\n",
        "  ######If statements to calculate gross pay, tax deductions and net pay\r\n",
        "  if Hours<=37.5:\r\n",
        "    #### Gross Pay\r\n",
        "    total = Hours*rate_hr\r\n",
        "    #### Tax Deductions\r\n",
        "    deductions = total*(Stan_tax_rate/100)\r\n",
        "    ###Tax Pay\r\n",
        "    Netpay = total - deductions\r\n",
        "    #####Output in table form\r\n",
        "    print(\"\")\r\n",
        "    print(\"{: ^70s}\".format(\"PAYSLIP\"))\r\n",
        "    print(\"\")\r\n",
        "    print(\"WEEK ENDING {}\".format(Week_end))\r\n",
        "    print('Employee {}'.format(Name))\r\n",
        "    print('Employee Number {}'.format(Emp_num))\r\n",
        "    print(tabulate([['','Hours Rate', 'Total',''],['Hours(normal)','{} {}'.format(Hours, rate_hr),total,'Tax @20% {:.2f}'.format(deductions)]\r\n",
        "                    ,['','','',''],['','Total Pay:','','{}'.format(total)],[\"\",\"Total Deductions:\",\"\",'{:.2f}'.format(deductions)],\r\n",
        "                    [\"\",\"Net Pay:\",\"\",'{}'.format(Netpay)]], headers=['','Earnings','','Deductions']))\r\n",
        "  else:\r\n",
        "    ######If statements to calculate gross pay, tax deductions and net pay\r\n",
        "    over_hr = Hours - 37.5 \r\n",
        "    total = 37.5*rate_hr\r\n",
        "    over_total = over_hr * over_rate_hr\r\n",
        "    deductions = total*(Stan_tax_rate/100)\r\n",
        "    over_deduct = over_total*(overtime_tax_rate/100)\r\n",
        "    #### Gross Pay\r\n",
        "    t_total = total + over_total\r\n",
        "    #### Tax Deductions\r\n",
        "    t_deduct = deductions + over_deduct\r\n",
        "    ###Tax Pay\r\n",
        "    net_pay = t_total - t_deduct\r\n",
        "    #####Output in table form\r\n",
        "    print(\"\")\r\n",
        "    print(\"{: ^70s}\".format(\"PAYSLIP\"))\r\n",
        "    print(\"\")\r\n",
        "    print(\"WEEK ENDING {}\".format(Week_end))\r\n",
        "    print('Employee: {}'.format(Name))\r\n",
        "    print('Employee Number: {}'.format(Emp_num))\r\n",
        "    print(tabulate([['','Hours  Rate', 'Total',''],['Hours(normal)','{} {}'.format(Hours, rate_hr),total,'Tax @20% {:.2f}'.format(deductions)],\r\n",
        "                    ['Hours(Overtime)','{}  {}'.format(over_hr, over_rate_hr),over_total,'Tax @50% {:.2f}'.format(over_deduct)],['','','',''],['','Total Pay:','','{:.2f}'.format(t_total)],\r\n",
        "                     [\"\",\"Total Deductions:\",\"\",'{:.2f}'.format(t_deduct)],\r\n",
        "                    [\"\",\"Net Pay:\",\"\",'{:.2f}'.format(net_pay)]], headers=['','Earnings','', 'Deductions']))"
      ],
      "execution_count": 1,
      "outputs": []
    },
    {
      "cell_type": "code",
      "metadata": {
        "id": "ziq1RGpDjjd4",
        "colab": {
          "base_uri": "https://localhost:8080/"
        },
        "outputId": "2df0d068-9556-4c34-df30-30dea51882ed"
      },
      "source": [
        "calculates_payslip()"
      ],
      "execution_count": 6,
      "outputs": [
        {
          "output_type": "stream",
          "text": [
            "Enter Your name\n",
            "Samantha Johnson\n",
            "Kindly input the week ending date in this format dd/mm/yyyy\n",
            "18/12/2020\n",
            "Enter Your Employee Num \n",
            "123456789A\n",
            "Enter The number of hours worked\n",
            "56\n",
            "Enter rate per hour:\n",
            "10.50\n",
            "Enter Standard tax rate\n",
            "20\n",
            "Enter Overtime tax rate\n",
            "50\n",
            "\n",
            "                               PAYSLIP                                \n",
            "\n",
            "WEEK ENDING 18/12/2020\n",
            "Employee: Samantha Johnson\n",
            "Employee Number: 123456789A\n",
            "                 Earnings                    Deductions\n",
            "---------------  -----------------  -------  ---------------\n",
            "                 Hours  Rate        Total\n",
            "Hours(normal)    56.0 10.5          393.75   Tax @20% 78.75\n",
            "Hours(Overtime)  18.5  15.75        291.375  Tax @50% 145.69\n",
            "\n",
            "                 Total Pay:                  685.12\n",
            "                 Total Deductions:           224.44\n",
            "                 Net Pay:                    460.69\n"
          ],
          "name": "stdout"
        }
      ]
    },
    {
      "cell_type": "markdown",
      "metadata": {
        "id": "zieIxB3_CoFT"
      },
      "source": [
        "# Write a program in Python which prompts the user for their username in the format Domain Name\\Username"
      ]
    },
    {
      "cell_type": "code",
      "metadata": {
        "id": "hOZ1V_aLfBCF"
      },
      "source": [
        "def domain_find():\r\n",
        "  #PRINTING CONSOLE PROMPTS\r\n",
        "  print(\"#########################################\")\r\n",
        "  print(\"WELCOME TO THE DBS CONSOLE\")\r\n",
        "  print(\"#########################################\")\r\n",
        "  print('Please enter your username SEPERATED BY \\\\ e.g DBS\\\\12345')\r\n",
        "  #INPUTING DOMAIN AND USERNAME IN DOMAIN\\USERNAME FORMAT\r\n",
        "  Name = input()\r\n",
        "  #SPLITTING DOMAIN AND USERNAME\r\n",
        "  Domain =Name[0:(Name.find('\\\\'))]\r\n",
        "  Username = Name[(Name.find('\\\\')+1):]\r\n",
        "  #PRINTING RESULTS\r\n",
        "  print(\"\")\r\n",
        "  print(\"DOMAIN:  {}\".format(Domain))\r\n",
        "  print(\"Username:  {}\".format(Username))"
      ],
      "execution_count": 7,
      "outputs": []
    },
    {
      "cell_type": "code",
      "metadata": {
        "colab": {
          "base_uri": "https://localhost:8080/"
        },
        "id": "jne8JCeDlnqL",
        "outputId": "d89b17fb-ad0d-4c19-8136-350837d2f5ea"
      },
      "source": [
        "domain_find()"
      ],
      "execution_count": 9,
      "outputs": [
        {
          "output_type": "stream",
          "text": [
            "#########################################\n",
            "WELCOME TO THE DBS CONSOLE\n",
            "#########################################\n",
            "Please enter your username SEPERATED BY \\ e.g DBS\\12345\n",
            "ecobankgroup\\7894561230\n",
            "\n",
            "DOMAIN:  ecobankgroup\n",
            "Username:  7894561230\n"
          ],
          "name": "stdout"
        }
      ]
    },
    {
      "cell_type": "markdown",
      "metadata": {
        "id": "IixCZUoKC1XH"
      },
      "source": [
        "#Write a program in Python that prompts the user to enter a number of integer values. The program stores the integers, counts the frequency of each integer and displays the frequency"
      ]
    },
    {
      "cell_type": "code",
      "metadata": {
        "id": "JbkwwP7syTp7"
      },
      "source": [
        "def integer_count():\r\n",
        "  print(\"#########################################\")\r\n",
        "  print(\"WELCOME TO THE DBS CONSOLE\")\r\n",
        "  print(\"#########################################\")\r\n",
        "  print('Input the number of elements to be stored in the list :')\r\n",
        "  elements_count = int(input())\r\n",
        "  elements = []\r\n",
        "  for i in range(elements_count):\r\n",
        "    new = elements.append(input(\"element - {} : \".format(i)))\r\n",
        "  print('The frequency of all elements of the list :')\r\n",
        "  for count in set(elements):\r\n",
        "    print(count, 'occurs', elements.count(count),\"times\")"
      ],
      "execution_count": 10,
      "outputs": []
    },
    {
      "cell_type": "code",
      "metadata": {
        "id": "KBD5jsZW2UaZ",
        "colab": {
          "base_uri": "https://localhost:8080/"
        },
        "outputId": "53be8b6d-9fa2-4a69-99c2-ed875abc5572"
      },
      "source": [
        "integer_count()"
      ],
      "execution_count": 12,
      "outputs": [
        {
          "output_type": "stream",
          "text": [
            "#########################################\n",
            "WELCOME TO THE DBS CONSOLE\n",
            "#########################################\n",
            "Input the number of elements to be stored in the list :\n",
            "9\n",
            "element - 0 : 1\n",
            "element - 1 : 1\n",
            "element - 2 : 2\n",
            "element - 3 : 56\n",
            "element - 4 : 56\n",
            "element - 5 : 2\n",
            "element - 6 : 3\n",
            "element - 7 : 1\n",
            "element - 8 : 8\n",
            "The frequency of all elements of the list :\n",
            "56 occurs 2 times\n",
            "2 occurs 2 times\n",
            "1 occurs 3 times\n",
            "8 occurs 1 times\n",
            "3 occurs 1 times\n"
          ],
          "name": "stdout"
        }
      ]
    },
    {
      "cell_type": "markdown",
      "metadata": {
        "id": "qUEmSx7_C-SB"
      },
      "source": [
        "#Implement the MYPY Phone Book System in Python as per Figure 3 below which allows users to add, delete, update and lookup phone numbers. The MYPY Phone Book System should store the individual’s Full Name and Phone Number. Your program should not allow users to add the same number twice. On adding, deleting, updating or looking up a number, your program should let the user know if the operation was successful or not. On looking up a number return the full name and number of the individual; if the number is not found give the user the option to add the details they are looking up. The user can perform multiple actions; they can add a new entry and subsequently delete an entry without having to stop and start the program until they decide to quit."
      ]
    },
    {
      "cell_type": "code",
      "metadata": {
        "id": "x6Om_macEp9y"
      },
      "source": [
        "def total_ponebook():\r\n",
        "\r\n",
        "  ##Importing Panda and SQLite3 libraries\r\n",
        "  import pandas as sam\r\n",
        "  import sqlite3 as dd\r\n",
        "\r\n",
        "  ##Creating/Connecting to a database\r\n",
        "  db = dd.connect(\"PH.db\")\r\n",
        "  db.execute(\"drop table if exists results\")\r\n",
        "  try:\r\n",
        "    ###Creating table on database created with column names for our phonebook\r\n",
        "    db.execute(\"create table mypy(Name text, Number text PRIMARY KEY UNIQUE)\")\r\n",
        "  except:\r\n",
        "    print(\"Already table existed !!\")\r\n",
        "\r\n",
        "  ####Creating a function to call how phonebook Menu\r\n",
        "  def mypy_ph_bk():\r\n",
        "      print(\"########################\\n  MYPY PHONE BOOK \\n########################\")\r\n",
        "      print(\"1 : Add New Entry \\n2 : Delete Entry\\n3 : Update Entry\\n4 : Lookup Number \\n5 : View Phonebook \\n6 : QUIT\")\r\n",
        "      print(\"_________________________________\")\r\n",
        "\r\n",
        "  ####Setting criteria for continous running of our Menu without exiting\r\n",
        "  select = 0\r\n",
        "  while select != 6:\r\n",
        "    print(\"########################\\n  MYPY PHONE BOOK \\n########################\")\r\n",
        "    print(\"1 : Add New Entry \\n2 : Delete Entry\\n3 : Update Entry\\n4 : Lookup Number \\n5 : View Phonebook \\n6 : QUIT\")\r\n",
        "    print(\"_________________________________\")\r\n",
        "    select =int(input())\r\n",
        "\r\n",
        "  #########################Add New Entry\r\n",
        "\r\n",
        "    if select == 1:\r\n",
        "      ##input Name and Number for entry into the phonebook\r\n",
        "      Name=input('Enter Fullname: ')\r\n",
        "      Number=input('Enter Phone Number: ')\r\n",
        "      cmd = \"insert into mypy(Name, Number) values('{}','{}')\".format(Name,Number)\r\n",
        "      ###Check to confirm if the number exists and condition to follow if possible\r\n",
        "      try:\r\n",
        "        db.execute(cmd)\r\n",
        "        db.commit()\r\n",
        "        print(\"Record Sucessfully Added\")\r\n",
        "      except dd.Error:\r\n",
        "        print(\"Duplicate entry\\n Unsucessfull entry\\n Enter a new number\")\r\n",
        "                \r\n",
        "  ########################Delete Entry\r\n",
        "\r\n",
        "    elif select ==2:\r\n",
        "      Del_num = input('Number to be Deleted: ')\r\n",
        "      cmd = \"Delete from mypy  WHERE  Number = '{}'\".format(Del_num)\r\n",
        "      del_com = db.execute(cmd)\r\n",
        "      db.commit()\r\n",
        "      if del_com.rowcount < 1:\r\n",
        "        print('Number inserted cannot be found')\r\n",
        "      else:\r\n",
        "        print('Record Has been sucessfully Deleted')\r\n",
        "\r\n",
        "  ########################Update Entry\r\n",
        "\r\n",
        "    elif select ==3:\r\n",
        "      Num1 = input('Number to be updated: ')\r\n",
        "      run_cmd = \"Select * from mypy  WHERE  Number = '{}'\".format(Num1)\r\n",
        "      up_num = sam.read_sql_query(run_cmd, db)\r\n",
        "      if up_num.empty ==False:\r\n",
        "        name=input('Enter New Fullname: ')\r\n",
        "        number=input('Enter New Phone Number: ')\r\n",
        "        cmd = \"UPDATE mypy  SET Name = '{}',  Number = '{}'  WHERE  Number = '{}'\".format(name,number,Num1)\r\n",
        "        new = db.execute(cmd)\r\n",
        "        db.commit()\r\n",
        "        print('Record Has been sucessfully Updated') \r\n",
        "      else:\r\n",
        "        print('Number inputted cannot be found')\r\n",
        "\r\n",
        "  ########################Lookup  Entry\r\n",
        "\r\n",
        "    elif select == 4:\r\n",
        "      Lookup_num = input('Number to be lookuped: ')\r\n",
        "      cmd = \"Select * from mypy  WHERE  Number = '{}'\".format(Lookup_num)\r\n",
        "      look = sam.read_sql_query(cmd, db)\r\n",
        "      if look.empty == False:\r\n",
        "        print(\"######################\")\r\n",
        "        print(look)\r\n",
        "        print(\"######################\")\r\n",
        "        print(\"\")\r\n",
        "      else:\r\n",
        "        print('Number not found')\r\n",
        "        new = input('Do you want to add the number to the phonebook(Y/N): ')\r\n",
        "        if new == 'Y' or new == 'y':\r\n",
        "          Name=input('Enter Fullname: ')\r\n",
        "          Number=Lookup_num\r\n",
        "          cmd = \"insert into mypy(Name, Number) values('{}','{}')\".format(Name,Number)\r\n",
        "          db.execute(cmd)\r\n",
        "          db.commit()\r\n",
        "          print(\"Record Sucessfully Added\")\r\n",
        "        else:\r\n",
        "          print(\"\")\r\n",
        "\r\n",
        "  ########################View Phonebook\r\n",
        "    elif select ==5:\r\n",
        "      db = dd.connect(\"PH.db\")\r\n",
        "      view = \"\"\"SELECT * FROM mypy\"\"\"\r\n",
        "      views = sam.read_sql_query(view, db)\r\n",
        "      print(\"######################\")\r\n",
        "      print(views)\r\n",
        "      print(\"######################\")\r\n",
        "      print(\"\")\r\n",
        "      mypy_ph_bk()\r\n",
        "\r\n",
        "  #######################\r\n",
        "    elif select ==6:\r\n",
        "      print(\"Thank you for using the Phonebook\")\r\n",
        "      print(\"Exiting ..................\")"
      ],
      "execution_count": 15,
      "outputs": []
    },
    {
      "cell_type": "code",
      "metadata": {
        "id": "zqn6VHqN8QGR",
        "colab": {
          "base_uri": "https://localhost:8080/"
        },
        "outputId": "21e2b04b-995c-440c-c0df-8d5bcdfc64df"
      },
      "source": [
        "total_ponebook()"
      ],
      "execution_count": 17,
      "outputs": [
        {
          "output_type": "stream",
          "text": [
            "Already table existed !!\n",
            "########################\n",
            "  MYPY PHONE BOOK \n",
            "########################\n",
            "1 : Add New Entry \n",
            "2 : Delete Entry\n",
            "3 : Update Entry\n",
            "4 : Lookup Number \n",
            "5 : View Phonebook \n",
            "6 : QUIT\n",
            "_________________________________\n",
            "5\n",
            "######################\n",
            "            Name       Number\n",
            "0  Salako Samuel  +3538997207\n",
            "######################\n",
            "\n",
            "########################\n",
            "  MYPY PHONE BOOK \n",
            "########################\n",
            "1 : Add New Entry \n",
            "2 : Delete Entry\n",
            "3 : Update Entry\n",
            "4 : Lookup Number \n",
            "5 : View Phonebook \n",
            "6 : QUIT\n",
            "_________________________________\n",
            "########################\n",
            "  MYPY PHONE BOOK \n",
            "########################\n",
            "1 : Add New Entry \n",
            "2 : Delete Entry\n",
            "3 : Update Entry\n",
            "4 : Lookup Number \n",
            "5 : View Phonebook \n",
            "6 : QUIT\n",
            "_________________________________\n",
            "4\n",
            "Number to be lookuped: +3538997207\n",
            "######################\n",
            "            Name       Number\n",
            "0  Salako Samuel  +3538997207\n",
            "######################\n",
            "\n",
            "########################\n",
            "  MYPY PHONE BOOK \n",
            "########################\n",
            "1 : Add New Entry \n",
            "2 : Delete Entry\n",
            "3 : Update Entry\n",
            "4 : Lookup Number \n",
            "5 : View Phonebook \n",
            "6 : QUIT\n",
            "_________________________________\n",
            "4\n",
            "Number to be lookuped: +23470664567\n",
            "Number not found\n",
            "Do you want to add the number to the phonebook(Y/N): y\n",
            "Enter Fullname: Funwontan Salami\n",
            "Record Sucessfully Added\n",
            "########################\n",
            "  MYPY PHONE BOOK \n",
            "########################\n",
            "1 : Add New Entry \n",
            "2 : Delete Entry\n",
            "3 : Update Entry\n",
            "4 : Lookup Number \n",
            "5 : View Phonebook \n",
            "6 : QUIT\n",
            "_________________________________\n",
            "5\n",
            "######################\n",
            "               Name        Number\n",
            "0     Salako Samuel   +3538997207\n",
            "1  Funwontan Salami  +23470664567\n",
            "######################\n",
            "\n",
            "########################\n",
            "  MYPY PHONE BOOK \n",
            "########################\n",
            "1 : Add New Entry \n",
            "2 : Delete Entry\n",
            "3 : Update Entry\n",
            "4 : Lookup Number \n",
            "5 : View Phonebook \n",
            "6 : QUIT\n",
            "_________________________________\n",
            "########################\n",
            "  MYPY PHONE BOOK \n",
            "########################\n",
            "1 : Add New Entry \n",
            "2 : Delete Entry\n",
            "3 : Update Entry\n",
            "4 : Lookup Number \n",
            "5 : View Phonebook \n",
            "6 : QUIT\n",
            "_________________________________\n",
            "6\n",
            "Thank you for using the Phonebook\n",
            "Exiting ..................\n"
          ],
          "name": "stdout"
        }
      ]
    }
  ]
}